{
 "cells": [
  {
   "cell_type": "code",
   "execution_count": 1,
   "metadata": {
    "collapsed": true
   },
   "outputs": [],
   "source": [
    "import pandas as pd\n",
    "import numpy as np\n",
    "import zipfile\n",
    "from IPython.display import display\n",
    "import re\n",
    "from tqdm._tqdm_notebook import tqdm_notebook\n",
    "tqdm_notebook.pandas()\n",
    "from collections import Counter"
   ]
  },
  {
   "cell_type": "code",
   "execution_count": 219,
   "metadata": {
    "collapsed": true
   },
   "outputs": [],
   "source": [
    "dump = False\n",
    "load = False\n",
    "def dump_to_pickle(obj, path):\n",
    "    if dump:\n",
    "        with open(path, 'wb') as pickled:\n",
    "            import pickle\n",
    "            pickle.dump(obj, pickled)\n",
    "        print(\"dumped\")\n",
    "    else:\n",
    "        print(\"dump suppressed\")\n",
    "def load_from_pickle(path):\n",
    "    if load:\n",
    "        with open(path, 'rb') as pickled:\n",
    "            import pickle\n",
    "            return pickle.load(pickled)\n",
    "        print(\"loaded\")\n",
    "    else:\n",
    "        raise(\"load suppressed\")"
   ]
  },
  {
   "cell_type": "code",
   "execution_count": 3,
   "metadata": {
    "collapsed": true
   },
   "outputs": [],
   "source": [
    "from collections import defaultdict\n",
    "class defaultgetdict(defaultdict):\n",
    "    \"\"\"like collections.defaultdict but does not insert missing key if not assigned\"\"\"\n",
    "    def __missing__(self, key):\n",
    "        if self.default_factory is None: raise KeyError(key)\n",
    "        return self.default_factory()"
   ]
  },
  {
   "cell_type": "code",
   "execution_count": 4,
   "metadata": {
    "collapsed": true,
    "scrolled": true
   },
   "outputs": [],
   "source": [
    "def read_infobox(file):\n",
    "    def tr(row):\n",
    "        from itertools import groupby\n",
    "        from operator import itemgetter\n",
    "        def featurize(item, counter):\n",
    "            partitioned = item.partition(':')\n",
    "            field_partitioned = partitioned[0].rsplit('_', 1)\n",
    "            counter[field_partitioned[0]] += 1\n",
    "            field_partitioned[1] = int(field_partitioned[1])\n",
    "            return partitioned[2], field_partitioned\n",
    "        from collections import Counter\n",
    "        field_counter = Counter()\n",
    "        projection = [featurize(item, field_counter) for item in row.split('\\t') if not item.endswith(':<none>')]\n",
    "        for item in projection:\n",
    "            item[1].append(field_counter[item[1][0]] + 1 - item[1][1])\n",
    "        projection = defaultgetdict(list, [(k, list([t[1] for t in v])) for k,v in groupby(sorted(projection, key=itemgetter(0)), key=itemgetter(0))])\n",
    "        return {'counter':field_counter, 'data':projection}\n",
    "    import sys\n",
    "    nrows = 10\n",
    "    nrows = sys.maxsize\n",
    "    infobox = pd.DataFrame(pd.read_csv(file, sep='\\n', header=None, names=['infobox'], nrows=nrows)['infobox'].progress_apply(tr).tolist())\n",
    "    return infobox"
   ]
  },
  {
   "cell_type": "code",
   "execution_count": 5,
   "metadata": {},
   "outputs": [
    {
     "data": {
      "application/vnd.jupyter.widget-view+json": {
       "model_id": "9ddd36bfd92e4aa0a4d70d23038e5206",
       "version_major": 2,
       "version_minor": 0
      },
      "text/plain": [
       "A Jupyter Widget"
      ]
     },
     "metadata": {},
     "output_type": "display_data"
    },
    {
     "name": "stdout",
     "output_type": "stream",
     "text": [
      "\n"
     ]
    }
   ],
   "source": [
    "train_infobox = read_infobox('../wikipedia-biography-dataset/train/train.box')"
   ]
  },
  {
   "cell_type": "code",
   "execution_count": 6,
   "metadata": {},
   "outputs": [
    {
     "data": {
      "application/vnd.jupyter.widget-view+json": {
       "model_id": "6454447bcee946d4b34ff8bb2d03af00",
       "version_major": 2,
       "version_minor": 0
      },
      "text/plain": [
       "A Jupyter Widget"
      ]
     },
     "metadata": {},
     "output_type": "display_data"
    },
    {
     "name": "stdout",
     "output_type": "stream",
     "text": [
      "\n"
     ]
    }
   ],
   "source": [
    "test_infobox = read_infobox('../wikipedia-biography-dataset/test/test.box')"
   ]
  },
  {
   "cell_type": "code",
   "execution_count": 7,
   "metadata": {},
   "outputs": [
    {
     "data": {
      "application/vnd.jupyter.widget-view+json": {
       "model_id": "31505b3cb9b44485b29b44c7ca7dea47",
       "version_major": 2,
       "version_minor": 0
      },
      "text/plain": [
       "A Jupyter Widget"
      ]
     },
     "metadata": {},
     "output_type": "display_data"
    },
    {
     "name": "stdout",
     "output_type": "stream",
     "text": [
      "\n"
     ]
    }
   ],
   "source": [
    "valid_infobox = read_infobox('../wikipedia-biography-dataset/valid/valid.box')"
   ]
  },
  {
   "cell_type": "code",
   "execution_count": 8,
   "metadata": {
    "scrolled": true
   },
   "outputs": [
    {
     "name": "stdout",
     "output_type": "stream",
     "text": [
      "dump suppressed\n"
     ]
    }
   ],
   "source": [
    "dump_to_pickle(train_infobox, 'train.box.pickle')"
   ]
  },
  {
   "cell_type": "code",
   "execution_count": 9,
   "metadata": {},
   "outputs": [
    {
     "name": "stdout",
     "output_type": "stream",
     "text": [
      "dump suppressed\n"
     ]
    }
   ],
   "source": [
    "dump_to_pickle(test_infobox, 'test.box.pickle')"
   ]
  },
  {
   "cell_type": "code",
   "execution_count": 10,
   "metadata": {},
   "outputs": [
    {
     "name": "stdout",
     "output_type": "stream",
     "text": [
      "dump suppressed\n"
     ]
    }
   ],
   "source": [
    "dump_to_pickle(valid_infobox, 'valid.box.pickle')"
   ]
  },
  {
   "cell_type": "code",
   "execution_count": 12,
   "metadata": {
    "scrolled": true
   },
   "outputs": [
    {
     "ename": "TypeError",
     "evalue": "exceptions must derive from BaseException",
     "output_type": "error",
     "traceback": [
      "\u001b[1;31m---------------------------------------------------------------------------\u001b[0m",
      "\u001b[1;31mTypeError\u001b[0m                                 Traceback (most recent call last)",
      "\u001b[1;32m<ipython-input-12-93d50cec62d1>\u001b[0m in \u001b[0;36m<module>\u001b[1;34m()\u001b[0m\n\u001b[1;32m----> 1\u001b[1;33m \u001b[0mtrain_infobox\u001b[0m \u001b[1;33m=\u001b[0m \u001b[0mload_from_pickle\u001b[0m\u001b[1;33m(\u001b[0m\u001b[1;34m'train.box.pickle'\u001b[0m\u001b[1;33m)\u001b[0m\u001b[1;33m\u001b[0m\u001b[0m\n\u001b[0m\u001b[0;32m      2\u001b[0m \u001b[0mvalid_infobox\u001b[0m \u001b[1;33m=\u001b[0m \u001b[0mload_from_pickle\u001b[0m\u001b[1;33m(\u001b[0m\u001b[1;34m'valid.box.pickle'\u001b[0m\u001b[1;33m)\u001b[0m\u001b[1;33m\u001b[0m\u001b[0m\n\u001b[0;32m      3\u001b[0m \u001b[0mtest_infobox\u001b[0m \u001b[1;33m=\u001b[0m \u001b[0mload_from_pickle\u001b[0m\u001b[1;33m(\u001b[0m\u001b[1;34m'test.box.pickle'\u001b[0m\u001b[1;33m)\u001b[0m\u001b[1;33m\u001b[0m\u001b[0m\n",
      "\u001b[1;32m<ipython-input-2-2f37b97f61b1>\u001b[0m in \u001b[0;36mload_from_pickle\u001b[1;34m(path)\u001b[0m\n\u001b[0;32m     16\u001b[0m         \u001b[0mprint\u001b[0m\u001b[1;33m(\u001b[0m\u001b[1;34m\"loaded\"\u001b[0m\u001b[1;33m)\u001b[0m\u001b[1;33m\u001b[0m\u001b[0m\n\u001b[0;32m     17\u001b[0m     \u001b[1;32melse\u001b[0m\u001b[1;33m:\u001b[0m\u001b[1;33m\u001b[0m\u001b[0m\n\u001b[1;32m---> 18\u001b[1;33m         \u001b[1;32mraise\u001b[0m\u001b[1;33m(\u001b[0m\u001b[1;34m\"load suppressed\"\u001b[0m\u001b[1;33m)\u001b[0m\u001b[1;33m\u001b[0m\u001b[0m\n\u001b[0m",
      "\u001b[1;31mTypeError\u001b[0m: exceptions must derive from BaseException"
     ]
    }
   ],
   "source": [
    "train_infobox = load_from_pickle('train.box.pickle')\n",
    "valid_infobox = load_from_pickle('valid.box.pickle')\n",
    "test_infobox = load_from_pickle('test.box.pickle')"
   ]
  },
  {
   "cell_type": "code",
   "execution_count": 13,
   "metadata": {},
   "outputs": [
    {
     "data": {
      "text/plain": [
       "defaultgetdict(list,\n",
       "               {'1954': [['birth_date', 1, 1]],\n",
       "                'aircraft': [['occupation', 1, 4]],\n",
       "                'and': [['occupation', 3, 2]],\n",
       "                'designer': [['occupation', 2, 3]],\n",
       "                'extra': [['name', 2, 1], ['article_title', 2, 1]],\n",
       "                'german': [['nationality', 1, 1]],\n",
       "                'manufacturer': [['occupation', 4, 1]],\n",
       "                'walter': [['name', 1, 2], ['article_title', 1, 2]]})"
      ]
     },
     "execution_count": 13,
     "metadata": {},
     "output_type": "execute_result"
    }
   ],
   "source": [
    "train_infobox.iloc[0]['data']"
   ]
  },
  {
   "cell_type": "code",
   "execution_count": 14,
   "metadata": {
    "scrolled": true
   },
   "outputs": [
    {
     "data": {
      "text/plain": [
       "Counter({'article_title': 2,\n",
       "         'birth_date': 1,\n",
       "         'name': 2,\n",
       "         'nationality': 1,\n",
       "         'occupation': 4})"
      ]
     },
     "execution_count": 14,
     "metadata": {},
     "output_type": "execute_result"
    }
   ],
   "source": [
    "train_infobox.iloc[0]['counter']"
   ]
  },
  {
   "cell_type": "code",
   "execution_count": 15,
   "metadata": {
    "collapsed": true
   },
   "outputs": [],
   "source": [
    "def read_nb(file):\n",
    "    import sys\n",
    "    nrows = 10\n",
    "    nrows = sys.maxsize\n",
    "    nb = pd.concat([pd.Series([0]), pd.read_csv(file, sep='\\n', header=None, nrows=nrows, squeeze=True).cumsum()], ignore_index=True).iloc[:-1]\n",
    "    return nb\n",
    "\n",
    "train_nb = read_nb('../wikipedia-biography-dataset/train/train.nb')"
   ]
  },
  {
   "cell_type": "code",
   "execution_count": 16,
   "metadata": {
    "collapsed": true
   },
   "outputs": [],
   "source": [
    "valid_nb = read_nb('../wikipedia-biography-dataset/valid/valid.nb')\n",
    "test_nb = read_nb('../wikipedia-biography-dataset/test/test.nb')"
   ]
  },
  {
   "cell_type": "code",
   "execution_count": 17,
   "metadata": {
    "collapsed": true
   },
   "outputs": [],
   "source": [
    "def read_sent(file, nb):\n",
    "    import sys\n",
    "    nrows = 10\n",
    "    nrows = sys.maxsize\n",
    "    sent = pd.read_csv(file, sep='\\n', header=None, nrows=nrows, squeeze=True).iloc[nb]\n",
    "    return sent\n",
    "\n",
    "train_sent = read_sent('../wikipedia-biography-dataset/train/train.sent', train_nb)"
   ]
  },
  {
   "cell_type": "code",
   "execution_count": 18,
   "metadata": {
    "collapsed": true
   },
   "outputs": [],
   "source": [
    "valid_sent = read_sent('../wikipedia-biography-dataset/valid/valid.sent', valid_nb)\n",
    "test_sent = read_sent('../wikipedia-biography-dataset/test/test.sent', test_nb)"
   ]
  },
  {
   "cell_type": "code",
   "execution_count": 19,
   "metadata": {
    "scrolled": true
   },
   "outputs": [
    {
     "data": {
      "application/vnd.jupyter.widget-view+json": {
       "model_id": "8bbce3f9bb4b4e299c8df3bb1c4bdc1b",
       "version_major": 2,
       "version_minor": 0
      },
      "text/plain": [
       "A Jupyter Widget"
      ]
     },
     "metadata": {},
     "output_type": "display_data"
    },
    {
     "name": "stdout",
     "output_type": "stream",
     "text": [
      "\n"
     ]
    }
   ],
   "source": [
    "def replace_with_copy_token(sent, infobox):\n",
    "    def replace_fn(row):\n",
    "        replaced = [(w, row['data'][w]) for w in row['sentence'].split()]\n",
    "        return replaced\n",
    "    return pd.concat([sent.reset_index(name='sentence'), infobox], axis=1).progress_apply(replace_fn, axis=1)\n",
    "test_sent_tokens = replace_with_copy_token(test_sent, test_infobox)"
   ]
  },
  {
   "cell_type": "code",
   "execution_count": 20,
   "metadata": {},
   "outputs": [
    {
     "data": {
      "application/vnd.jupyter.widget-view+json": {
       "model_id": "af75797ece604a65b042a15363327ce6",
       "version_major": 2,
       "version_minor": 0
      },
      "text/plain": [
       "A Jupyter Widget"
      ]
     },
     "metadata": {},
     "output_type": "display_data"
    },
    {
     "name": "stdout",
     "output_type": "stream",
     "text": [
      "\n"
     ]
    },
    {
     "data": {
      "application/vnd.jupyter.widget-view+json": {
       "model_id": "d4f94884047e48ecbcb06efa6222f55f",
       "version_major": 2,
       "version_minor": 0
      },
      "text/plain": [
       "A Jupyter Widget"
      ]
     },
     "metadata": {},
     "output_type": "display_data"
    },
    {
     "name": "stdout",
     "output_type": "stream",
     "text": [
      "\n"
     ]
    }
   ],
   "source": [
    "train_sent_tokens = replace_with_copy_token(train_sent, train_infobox)\n",
    "valid_sent_tokens = replace_with_copy_token(valid_sent, valid_infobox)"
   ]
  },
  {
   "cell_type": "code",
   "execution_count": 21,
   "metadata": {},
   "outputs": [
    {
     "ename": "TypeError",
     "evalue": "exceptions must derive from BaseException",
     "output_type": "error",
     "traceback": [
      "\u001b[1;31m---------------------------------------------------------------------------\u001b[0m",
      "\u001b[1;31mTypeError\u001b[0m                                 Traceback (most recent call last)",
      "\u001b[1;32m<ipython-input-21-9975188de0e3>\u001b[0m in \u001b[0;36m<module>\u001b[1;34m()\u001b[0m\n\u001b[1;32m----> 1\u001b[1;33m \u001b[0mtrain_nb\u001b[0m \u001b[1;33m=\u001b[0m \u001b[0mload_from_pickle\u001b[0m\u001b[1;33m(\u001b[0m\u001b[1;34m'train.nb.pickle'\u001b[0m\u001b[1;33m)\u001b[0m\u001b[1;33m\u001b[0m\u001b[0m\n\u001b[0m\u001b[0;32m      2\u001b[0m \u001b[0mvalid_nb\u001b[0m \u001b[1;33m=\u001b[0m \u001b[0mload_from_pickle\u001b[0m\u001b[1;33m(\u001b[0m\u001b[1;34m'valid.nb.pickle'\u001b[0m\u001b[1;33m)\u001b[0m\u001b[1;33m\u001b[0m\u001b[0m\n\u001b[0;32m      3\u001b[0m \u001b[0mtest_nb\u001b[0m \u001b[1;33m=\u001b[0m \u001b[0mload_from_pickle\u001b[0m\u001b[1;33m(\u001b[0m\u001b[1;34m'test.nb.pickle'\u001b[0m\u001b[1;33m)\u001b[0m\u001b[1;33m\u001b[0m\u001b[0m\n",
      "\u001b[1;32m<ipython-input-2-2f37b97f61b1>\u001b[0m in \u001b[0;36mload_from_pickle\u001b[1;34m(path)\u001b[0m\n\u001b[0;32m     16\u001b[0m         \u001b[0mprint\u001b[0m\u001b[1;33m(\u001b[0m\u001b[1;34m\"loaded\"\u001b[0m\u001b[1;33m)\u001b[0m\u001b[1;33m\u001b[0m\u001b[0m\n\u001b[0;32m     17\u001b[0m     \u001b[1;32melse\u001b[0m\u001b[1;33m:\u001b[0m\u001b[1;33m\u001b[0m\u001b[0m\n\u001b[1;32m---> 18\u001b[1;33m         \u001b[1;32mraise\u001b[0m\u001b[1;33m(\u001b[0m\u001b[1;34m\"load suppressed\"\u001b[0m\u001b[1;33m)\u001b[0m\u001b[1;33m\u001b[0m\u001b[0m\n\u001b[0m",
      "\u001b[1;31mTypeError\u001b[0m: exceptions must derive from BaseException"
     ]
    }
   ],
   "source": [
    "train_nb = load_from_pickle('train.nb.pickle')\n",
    "valid_nb = load_from_pickle('valid.nb.pickle')\n",
    "test_nb = load_from_pickle('test.nb.pickle')"
   ]
  },
  {
   "cell_type": "code",
   "execution_count": null,
   "metadata": {
    "collapsed": true
   },
   "outputs": [],
   "source": [
    "train_sent_tokens = load_from_pickle('train.sent.tokens.pickle')\n",
    "valid_sent_tokens = load_from_pickle('valid.sent.tokens.pickle')\n",
    "test_sent_tokens = load_from_pickle('test.sent.tokens.pickle')"
   ]
  },
  {
   "cell_type": "code",
   "execution_count": 22,
   "metadata": {},
   "outputs": [
    {
     "data": {
      "text/plain": [
       "0    [(leonard, []), (shenoff, []), (randle, [['nam...\n",
       "1    [(philippe, [['caption', 1, 2], ['article_titl...\n",
       "2    [(miroslav, [['name', 1, 2], ['article_title',...\n",
       "3    [(john, [['fullname', 1, 2]]), (``, []), (jack...\n",
       "4    [(william, [['birth_name', 1, 3]]), (ato, [['b...\n",
       "dtype: object"
      ]
     },
     "execution_count": 22,
     "metadata": {},
     "output_type": "execute_result"
    }
   ],
   "source": [
    "test_sent_tokens.head()"
   ]
  },
  {
   "cell_type": "code",
   "execution_count": 23,
   "metadata": {
    "collapsed": true,
    "scrolled": true
   },
   "outputs": [],
   "source": [
    "def sent_token_analyzer(row):\n",
    "    return [pair[0] for pair in row if not pair[1]]\n",
    "def vectorize(sent_tokens):\n",
    "    from sklearn.feature_extraction.text import CountVectorizer\n",
    "    vectorizer = CountVectorizer(analyzer=sent_token_analyzer)\n",
    "    return (vectorizer.fit_transform(sent_tokens), vectorizer)"
   ]
  },
  {
   "cell_type": "code",
   "execution_count": 24,
   "metadata": {
    "collapsed": true
   },
   "outputs": [],
   "source": [
    "train_sent_vectorized, train_sent_vectorizer = vectorize(train_sent_tokens)\n",
    "valid_sent_vectorized, valid_sent_vectorizer = vectorize(valid_sent_tokens)\n",
    "test_sent_vectorized, test_sent_vectorizer = vectorize(test_sent_tokens)"
   ]
  },
  {
   "cell_type": "code",
   "execution_count": 25,
   "metadata": {},
   "outputs": [
    {
     "name": "stdout",
     "output_type": "stream",
     "text": [
      "dump suppressed\n",
      "dump suppressed\n",
      "dump suppressed\n",
      "dump suppressed\n",
      "dump suppressed\n",
      "dump suppressed\n"
     ]
    }
   ],
   "source": [
    "dump_to_pickle(train_sent_vectorizer, 'train.sent.vectorizer.pickle')\n",
    "dump_to_pickle(train_sent_vectorized, 'train.sent.vectorized.pickle')\n",
    "dump_to_pickle(valid_sent_vectorizer, 'valid.sent.vectorizer.pickle')\n",
    "dump_to_pickle(valid_sent_vectorized, 'valid.sent.vectorized.pickle')\n",
    "dump_to_pickle(test_sent_vectorizer, 'test.sent.vectorizer.pickle')\n",
    "dump_to_pickle(test_sent_vectorized, 'test.sent.vectorized.pickle')"
   ]
  },
  {
   "cell_type": "code",
   "execution_count": 26,
   "metadata": {
    "collapsed": true
   },
   "outputs": [],
   "source": [
    "def word_frequency(vectorized, vectorizer):\n",
    "    return pd.DataFrame({'word':vectorizer.get_feature_names(), 'count':vectorized.sum(0).tolist()[0]})"
   ]
  },
  {
   "cell_type": "code",
   "execution_count": 27,
   "metadata": {
    "collapsed": true
   },
   "outputs": [],
   "source": [
    "train_frequency = word_frequency(train_sent_vectorized, train_sent_vectorizer)\n",
    "valid_frequency = word_frequency(valid_sent_vectorized, valid_sent_vectorizer)\n",
    "test_frequency = word_frequency(test_sent_vectorized, test_sent_vectorizer)"
   ]
  },
  {
   "cell_type": "code",
   "execution_count": 28,
   "metadata": {
    "collapsed": true
   },
   "outputs": [],
   "source": [
    "def trim_frequency(frequency, k, column_name):\n",
    "    \"\"\"Trim the data to at least k, but includes rows whose value of column_name is at least equal to the top-k\"\"\"\n",
    "    return frequency[frequency[column_name] >= frequency.nlargest(k, column_name)[column_name].min()]"
   ]
  },
  {
   "cell_type": "code",
   "execution_count": 29,
   "metadata": {
    "collapsed": true,
    "scrolled": true
   },
   "outputs": [],
   "source": [
    "def get_embedding_lookup_table(vectorizer):\n",
    "    return dict(zip(vectorizer.get_feature_names(), range(len(vectorizer.get_feature_names()))))\n",
    "\n",
    "train_embedding_lookup_table = get_embedding_lookup_table(train_sent_vectorizer)\n",
    "valid_embedding_lookup_table = get_embedding_lookup_table(valid_sent_vectorizer)\n",
    "test_embedding_lookup_table = get_embedding_lookup_table(test_sent_vectorizer)"
   ]
  },
  {
   "cell_type": "code",
   "execution_count": 30,
   "metadata": {},
   "outputs": [
    {
     "name": "stdout",
     "output_type": "stream",
     "text": [
      "dump suppressed\n",
      "dump suppressed\n",
      "dump suppressed\n"
     ]
    }
   ],
   "source": [
    "dump_to_pickle(train_embedding_lookup_table, 'train.lookup.table.pickle')\n",
    "dump_to_pickle(valid_embedding_lookup_table, 'valid.lookup.table.pickle')\n",
    "dump_to_pickle(test_embedding_lookup_table, 'test.lookup.table.pickle')"
   ]
  },
  {
   "cell_type": "code",
   "execution_count": 31,
   "metadata": {
    "collapsed": true,
    "scrolled": true
   },
   "outputs": [],
   "source": [
    "def counter_analyzer(counter):\n",
    "    from itertools import chain, repeat\n",
    "    return list(chain.from_iterable(repeat(k,v)) for k, v in counter.items())\n",
    "def counter_sum(counters):\n",
    "    from sklearn.feature_extraction import DictVectorizer\n",
    "    vectorizer = DictVectorizer()\n",
    "    return (dict(zip(*reversed([vectorizer.fit_transform(tqdm_notebook(counters)).sum(0).tolist()[0], vectorizer.get_feature_names()]))), vectorizer)"
   ]
  },
  {
   "cell_type": "code",
   "execution_count": 32,
   "metadata": {
    "scrolled": false
   },
   "outputs": [
    {
     "data": {
      "application/vnd.jupyter.widget-view+json": {
       "model_id": "29ceec2883cf484491aa2c7a373481ce",
       "version_major": 2,
       "version_minor": 0
      },
      "text/plain": [
       "A Jupyter Widget"
      ]
     },
     "metadata": {},
     "output_type": "display_data"
    },
    {
     "name": "stdout",
     "output_type": "stream",
     "text": [
      "\n"
     ]
    },
    {
     "data": {
      "application/vnd.jupyter.widget-view+json": {
       "model_id": "36bd2aa36b2144efacbaac8e0586569e",
       "version_major": 2,
       "version_minor": 0
      },
      "text/plain": [
       "A Jupyter Widget"
      ]
     },
     "metadata": {},
     "output_type": "display_data"
    },
    {
     "name": "stdout",
     "output_type": "stream",
     "text": [
      "\n"
     ]
    },
    {
     "data": {
      "application/vnd.jupyter.widget-view+json": {
       "model_id": "0affcbd03ac446ecbab6b4914b1d073d",
       "version_major": 2,
       "version_minor": 0
      },
      "text/plain": [
       "A Jupyter Widget"
      ]
     },
     "metadata": {},
     "output_type": "display_data"
    },
    {
     "name": "stdout",
     "output_type": "stream",
     "text": [
      "\n"
     ]
    }
   ],
   "source": [
    "train_infobox_sum, train_infobox_sum_vectorizer = counter_sum(train_infobox['counter'])\n",
    "valid_infobox_sum, valid_infobox_sum_vectorizer = counter_sum(valid_infobox['counter'])\n",
    "test_infobox_sum, test_infobox_sum_vectorizer = counter_sum(test_infobox['counter'])"
   ]
  },
  {
   "cell_type": "code",
   "execution_count": 33,
   "metadata": {},
   "outputs": [
    {
     "name": "stdout",
     "output_type": "stream",
     "text": [
      "dump suppressed\n",
      "dump suppressed\n",
      "dump suppressed\n"
     ]
    }
   ],
   "source": [
    "dump_to_pickle(train_sent_tokens, 'train.infobox.sum.pickle')\n",
    "dump_to_pickle(valid_sent_tokens, 'valid.infobox.sum.pickle')\n",
    "dump_to_pickle(test_infobox_sum, 'test.infobox.sum.pickle')"
   ]
  },
  {
   "cell_type": "code",
   "execution_count": 34,
   "metadata": {},
   "outputs": [
    {
     "ename": "TypeError",
     "evalue": "exceptions must derive from BaseException",
     "output_type": "error",
     "traceback": [
      "\u001b[1;31m---------------------------------------------------------------------------\u001b[0m",
      "\u001b[1;31mTypeError\u001b[0m                                 Traceback (most recent call last)",
      "\u001b[1;32m<ipython-input-34-52a4bcc65692>\u001b[0m in \u001b[0;36m<module>\u001b[1;34m()\u001b[0m\n\u001b[1;32m----> 1\u001b[1;33m \u001b[0mtrain_infobox_sum\u001b[0m \u001b[1;33m=\u001b[0m \u001b[0mload_from_pickle\u001b[0m\u001b[1;33m(\u001b[0m\u001b[1;34m'train.infobox.sum.pickle'\u001b[0m\u001b[1;33m)\u001b[0m\u001b[1;33m\u001b[0m\u001b[0m\n\u001b[0m\u001b[0;32m      2\u001b[0m \u001b[0mvalid_infobox_sum\u001b[0m \u001b[1;33m=\u001b[0m \u001b[0mload_from_pickle\u001b[0m\u001b[1;33m(\u001b[0m\u001b[1;34m'valid.infobox.sum.pickle'\u001b[0m\u001b[1;33m)\u001b[0m\u001b[1;33m\u001b[0m\u001b[0m\n\u001b[0;32m      3\u001b[0m \u001b[0mtest_infobox_sum\u001b[0m \u001b[1;33m=\u001b[0m \u001b[0mload_from_pickle\u001b[0m\u001b[1;33m(\u001b[0m\u001b[1;34m'test.infobox.sum.pickle'\u001b[0m\u001b[1;33m)\u001b[0m\u001b[1;33m\u001b[0m\u001b[0m\n",
      "\u001b[1;32m<ipython-input-2-2f37b97f61b1>\u001b[0m in \u001b[0;36mload_from_pickle\u001b[1;34m(path)\u001b[0m\n\u001b[0;32m     16\u001b[0m         \u001b[0mprint\u001b[0m\u001b[1;33m(\u001b[0m\u001b[1;34m\"loaded\"\u001b[0m\u001b[1;33m)\u001b[0m\u001b[1;33m\u001b[0m\u001b[0m\n\u001b[0;32m     17\u001b[0m     \u001b[1;32melse\u001b[0m\u001b[1;33m:\u001b[0m\u001b[1;33m\u001b[0m\u001b[0m\n\u001b[1;32m---> 18\u001b[1;33m         \u001b[1;32mraise\u001b[0m\u001b[1;33m(\u001b[0m\u001b[1;34m\"load suppressed\"\u001b[0m\u001b[1;33m)\u001b[0m\u001b[1;33m\u001b[0m\u001b[0m\n\u001b[0m",
      "\u001b[1;31mTypeError\u001b[0m: exceptions must derive from BaseException"
     ]
    }
   ],
   "source": [
    "train_infobox_sum = load_from_pickle('train.infobox.sum.pickle')\n",
    "valid_infobox_sum = load_from_pickle('valid.infobox.sum.pickle')\n",
    "test_infobox_sum = load_from_pickle('test.infobox.sum.pickle')"
   ]
  },
  {
   "cell_type": "code",
   "execution_count": 35,
   "metadata": {
    "collapsed": true
   },
   "outputs": [],
   "source": [
    "train_infobox_lookup_table = get_embedding_lookup_table(train_infobox_sum_vectorizer)\n",
    "valid_infobox_lookup_table = get_embedding_lookup_table(valid_infobox_sum_vectorizer)\n",
    "test_infobox_lookup_table = get_embedding_lookup_table(test_infobox_sum_vectorizer)"
   ]
  },
  {
   "cell_type": "code",
   "execution_count": 36,
   "metadata": {},
   "outputs": [
    {
     "name": "stdout",
     "output_type": "stream",
     "text": [
      "dump suppressed\n",
      "dump suppressed\n",
      "dump suppressed\n"
     ]
    }
   ],
   "source": [
    "dump_to_pickle(train_infobox_lookup_table, 'train.infobox.lookup.pickle')\n",
    "dump_to_pickle(valid_infobox_lookup_table, 'valid.infobox.lookup.pickle')\n",
    "dump_to_pickle(test_infobox_lookup_table, 'test.infobox.lookup.pickle')"
   ]
  },
  {
   "cell_type": "code",
   "execution_count": 37,
   "metadata": {
    "scrolled": true
   },
   "outputs": [
    {
     "data": {
      "text/plain": [
       "[(6328, 1485), (2873, 751), (2896, 746)]"
      ]
     },
     "execution_count": 37,
     "metadata": {},
     "output_type": "execute_result"
    }
   ],
   "source": [
    "[(len(train_infobox_sum), len([{k: v} for k, v in train_infobox_sum.items() if v >= 100])),\n",
    " (len(valid_infobox_sum), len([{k: v} for k, v in valid_infobox_sum.items() if v >= 100])),\n",
    " (len(test_infobox_sum), len([{k: v} for k, v in test_infobox_sum.items() if v >= 100]))]"
   ]
  },
  {
   "cell_type": "code",
   "execution_count": 38,
   "metadata": {
    "scrolled": true
   },
   "outputs": [
    {
     "data": {
      "text/plain": [
       "{'article_title': 5,\n",
       " 'birth_place': 1,\n",
       " 'buried': 6,\n",
       " 'death_date': 3,\n",
       " 'ended': 3,\n",
       " 'enthroned': 3,\n",
       " 'feast_day': 10,\n",
       " 'name': 4,\n",
       " 'nationality': 1,\n",
       " 'predecessor': 2,\n",
       " 'religion': 3,\n",
       " 'residence': 4,\n",
       " 'successor': 2,\n",
       " 'title': 12,\n",
       " 'type': 1}"
      ]
     },
     "execution_count": 38,
     "metadata": {},
     "output_type": "execute_result"
    }
   ],
   "source": [
    "dict(valid_infobox['counter'][0])"
   ]
  },
  {
   "cell_type": "code",
   "execution_count": 131,
   "metadata": {},
   "outputs": [
    {
     "data": {
      "text/plain": [
       "{'': 0,\n",
       " '&lt;': 1,\n",
       " \"'''boyfriend'''\": 2,\n",
       " \"'''death_date\": 3,\n",
       " \"'''name'''\": 4,\n",
       " \"''illustrations''\": 5,\n",
       " \"''influences&quot;\": 6,\n",
       " \"''novels''\": 7,\n",
       " \"'monarch'\": 8,\n",
       " '.': 9,\n",
       " '.|m|abbr': 10,\n",
       " '_date': 11,\n",
       " '_image_size': 12,\n",
       " '_members': 13,\n",
       " '_place': 14,\n",
       " 'a.k.a': 15,\n",
       " 'a.k.a.': 16,\n",
       " 'aarti': 17,\n",
       " 'abandoned': 18,\n",
       " 'abbot': 19,\n",
       " 'abbrev': 20,\n",
       " 'abbreviation': 21,\n",
       " 'abdication_date': 22,\n",
       " 'abode': 23,\n",
       " 'abolished': 24,\n",
       " 'above': 25,\n",
       " 'abovestyle': 26,\n",
       " 'abv': 27,\n",
       " 'acadamyawards': 28,\n",
       " 'academic': 29,\n",
       " 'academic_adivsor': 30,\n",
       " 'academic_adviors': 31,\n",
       " 'academic_advisor': 32,\n",
       " 'academic_advisors': 33,\n",
       " 'academic_degree': 34,\n",
       " 'academic_status': 35,\n",
       " 'academy': 36,\n",
       " 'academy_awards': 37,\n",
       " 'academyawards': 38,\n",
       " 'accessdate': 39,\n",
       " 'accession': 40,\n",
       " 'accn': 41,\n",
       " 'accomplishment': 42,\n",
       " 'accomplishments': 43,\n",
       " 'account': 44,\n",
       " 'accused': 45,\n",
       " 'accw': 46,\n",
       " 'achievement': 47,\n",
       " 'achievements': 48,\n",
       " 'achievements|awards': 49,\n",
       " 'acronym': 50,\n",
       " 'actend': 51,\n",
       " 'actiev': 52,\n",
       " 'active': 53,\n",
       " 'active_date': 54,\n",
       " 'active_since': 55,\n",
       " 'active_years': 56,\n",
       " 'activities': 57,\n",
       " 'activity': 58,\n",
       " 'activity_sector': 59,\n",
       " 'activityyears': 60,\n",
       " 'activités': 61,\n",
       " 'actress_debut': 62,\n",
       " 'acts': 63,\n",
       " 'actstart': 64,\n",
       " 'adc': 65,\n",
       " 'added': 66,\n",
       " 'added_date': 67,\n",
       " 'additional_members': 68,\n",
       " 'additional_musicians': 69,\n",
       " 'additionalpodiums': 70,\n",
       " 'address': 71,\n",
       " 'admin_sport': 72,\n",
       " 'admin_team': 73,\n",
       " 'admin_teams': 74,\n",
       " 'admin_years': 75,\n",
       " 'admindebutteam': 76,\n",
       " 'admindebutyear': 77,\n",
       " 'adminfinalteam': 78,\n",
       " 'adminfinalyear': 79,\n",
       " 'administrating_team': 80,\n",
       " 'administrating_teams': 81,\n",
       " 'administrating_years': 82,\n",
       " 'administration': 83,\n",
       " 'administrator': 84,\n",
       " 'administrator|image': 85,\n",
       " 'administrator|name': 86,\n",
       " 'admirer': 87,\n",
       " 'adnanpolat|order': 88,\n",
       " 'adopted': 89,\n",
       " 'adoptedname': 90,\n",
       " 'advisor': 91,\n",
       " 'affiliated_acts': 92,\n",
       " 'affiliation': 93,\n",
       " 'affiliations': 94,\n",
       " 'affilition': 95,\n",
       " 'afiawards': 96,\n",
       " 'afl': 97,\n",
       " 'afl_appearances': 98,\n",
       " 'afl_behinds': 99,\n",
       " 'afl_club': 100,\n",
       " 'afl_drafted_round': 101,\n",
       " 'afl_drafted_year': 102,\n",
       " 'afl_goals': 103,\n",
       " 'afl_points': 104,\n",
       " 'afl_position': 105,\n",
       " 'afl_yearend': 106,\n",
       " 'afl_yearstart': 107,\n",
       " 'aflallstar': 108,\n",
       " 'afldraftedpick': 109,\n",
       " 'afldraftedround': 110,\n",
       " 'afldraftedteam': 111,\n",
       " 'afldraftedyear': 112,\n",
       " 'afldraftpick': 113,\n",
       " 'afldraftround': 114,\n",
       " 'afldraftteam': 115,\n",
       " 'afldraftyear': 116,\n",
       " 'aflentryteam': 117,\n",
       " 'aflentryyear': 118,\n",
       " 'aflrookieyear': 119,\n",
       " 'aflstatlabel': 120,\n",
       " 'aflstats': 121,\n",
       " 'aflstatseason': 122,\n",
       " 'aflstatvalue': 123,\n",
       " 'aflstatvaule': 124,\n",
       " 'afltablesref': 125,\n",
       " 'afltatvalue': 126,\n",
       " 'after': 127,\n",
       " 'after_election': 128,\n",
       " 'after_party': 129,\n",
       " 'age': 130,\n",
       " 'age_at_death': 131,\n",
       " 'ageaudeces': 132,\n",
       " 'agencies': 133,\n",
       " 'agency': 134,\n",
       " 'agent': 135,\n",
       " 'agentcompany': 136,\n",
       " 'agents': 137,\n",
       " 'air_force': 138,\n",
       " 'aircraft_fighter': 139,\n",
       " 'aircraft_transport': 140,\n",
       " 'aircraft_type': 141,\n",
       " 'airdate': 142,\n",
       " 'aka': 143,\n",
       " 'alama_mater': 144,\n",
       " 'album': 145,\n",
       " 'albums': 146,\n",
       " 'albums_released': 147,\n",
       " 'alf': 148,\n",
       " 'alias': 149,\n",
       " 'alias_club': 150,\n",
       " 'alias_name': 151,\n",
       " 'aliases': 152,\n",
       " 'alias|birth_date': 153,\n",
       " 'alias|birth_name': 154,\n",
       " 'alias|image': 155,\n",
       " 'align': 156,\n",
       " 'alive': 157,\n",
       " 'allblackid': 158,\n",
       " 'allblackno': 159,\n",
       " 'allegance': 160,\n",
       " 'allegiance': 161,\n",
       " 'allegiances': 162,\n",
       " 'alleigance': 163,\n",
       " 'allias': 164,\n",
       " 'allies': 165,\n",
       " 'allirelands': 166,\n",
       " 'allstar': 167,\n",
       " 'allstars': 168,\n",
       " 'allstarsf': 169,\n",
       " 'allstarsh': 170,\n",
       " 'allsttars': 171,\n",
       " 'alma_master': 172,\n",
       " 'alma_mata': 173,\n",
       " 'alma_mate': 174,\n",
       " 'alma_matei': 175,\n",
       " 'alma_mater': 176,\n",
       " 'alma_maters': 177,\n",
       " 'alma_mater|occupation': 178,\n",
       " 'alma_matter': 179,\n",
       " 'alma_meter': 180,\n",
       " 'alma_mmater': 181,\n",
       " 'almae_matre': 182,\n",
       " 'almae_matres': 183,\n",
       " 'almamater': 184,\n",
       " 'almamatter': 185,\n",
       " 'almameter': 186,\n",
       " 'almamáter': 187,\n",
       " 'almer_mata': 188,\n",
       " 'almunus': 189,\n",
       " 'alongside': 190,\n",
       " 'alpgwins': 191,\n",
       " 'also': 192,\n",
       " 'also_known': 193,\n",
       " 'also_known_as': 194,\n",
       " 'alsoknownas': 195,\n",
       " 'also|associated_acts': 196,\n",
       " 'alstatlabel': 197,\n",
       " 'alt': 198,\n",
       " 'alt_name': 199,\n",
       " 'alt_text': 200,\n",
       " 'altcaption': 201,\n",
       " 'alternate': 202,\n",
       " 'alternate_name': 203,\n",
       " 'alternate_names': 204,\n",
       " 'alternative_name': 205,\n",
       " 'alternative_names': 206,\n",
       " 'altname': 207,\n",
       " 'altstyle': 208,\n",
       " 'altura': 209,\n",
       " 'alt|caption': 210,\n",
       " 'alummeter': 211,\n",
       " 'alumna': 212,\n",
       " 'alumni': 213,\n",
       " 'alumnus': 214,\n",
       " 'am_decloss': 215,\n",
       " 'am_decwin': 216,\n",
       " 'am_draw': 217,\n",
       " 'am_koloss': 218,\n",
       " 'am_kowin': 219,\n",
       " 'am_label': 220,\n",
       " 'am_loss': 221,\n",
       " 'am_nc': 222,\n",
       " 'am_subloss': 223,\n",
       " 'am_subwin': 224,\n",
       " 'am_win': 225,\n",
       " 'amatapps': 226,\n",
       " 'amatcaps': 227,\n",
       " 'amatclubs': 228,\n",
       " 'amateur_team': 229,\n",
       " 'amateur_title': 230,\n",
       " 'amateurcaps': 231,\n",
       " 'amateurclubs': 232,\n",
       " 'amateurpoints': 233,\n",
       " 'amateurteam': 234,\n",
       " 'amateurteams': 235,\n",
       " 'amateuryears': 236,\n",
       " 'amatpoints': 237,\n",
       " 'amatteam': 238,\n",
       " 'amatyears': 239,\n",
       " 'ambassador': 240,\n",
       " 'ambassador_from': 241,\n",
       " 'ame': 242,\n",
       " 'americann': 243,\n",
       " 'americanw': 244,\n",
       " 'american|field': 245,\n",
       " 'american|years_active': 246,\n",
       " 'amg_id': 247,\n",
       " 'amla_mater': 248,\n",
       " 'amployer': 249,\n",
       " 'anainspiration': 250,\n",
       " 'ancenstry': 251,\n",
       " 'ancestor': 252,\n",
       " 'ancestry': 253,\n",
       " 'animation': 254,\n",
       " 'ankles': 255,\n",
       " 'annéedebutdecarriere': 256,\n",
       " 'annéefindecarriere': 257,\n",
       " 'anthem': 258,\n",
       " 'apodo': 259,\n",
       " 'apparatus': 260,\n",
       " 'appearance': 261,\n",
       " 'appearances': 262,\n",
       " 'appearancesa': 263,\n",
       " 'appearancesb': 264,\n",
       " 'appearancesc': 265,\n",
       " 'appearancesd': 266,\n",
       " 'appearancese': 267,\n",
       " 'appearancesf': 268,\n",
       " 'appearancesg': 269,\n",
       " 'appellation': 270,\n",
       " 'appointed': 271,\n",
       " 'appointed_by': 272,\n",
       " 'appointedby': 273,\n",
       " 'appointer': 274,\n",
       " 'appointer_qualified': 275,\n",
       " 'appointerpost': 276,\n",
       " 'appointment': 277,\n",
       " 'appointments': 278,\n",
       " 'apprehended': 279,\n",
       " 'apprehension_date': 280,\n",
       " 'approval': 281,\n",
       " 'apps': 282,\n",
       " 'arabchampion': 283,\n",
       " 'archbishop_of': 284,\n",
       " 'archbishopric': 285,\n",
       " 'archdiocese': 286,\n",
       " 'archduchess|name': 287,\n",
       " 'archduke|name': 288,\n",
       " 'architect': 289,\n",
       " 'architects': 290,\n",
       " 'architectural_style': 291,\n",
       " 'architecture': 292,\n",
       " 'architecture_style': 293,\n",
       " 'architecture_type': 294,\n",
       " 'arcivescovo': 295,\n",
       " 'ardfert|counties': 296,\n",
       " 'ardfert|dicksboro|counties': 297,\n",
       " 'area': 298,\n",
       " 'area_code': 299,\n",
       " 'area_km': 300,\n",
       " 'area_land_km': 301,\n",
       " 'area_magnitude': 302,\n",
       " 'area_served': 303,\n",
       " 'area_total_km': 304,\n",
       " 'area_water_km': 305,\n",
       " 'areas': 306,\n",
       " 'aremo|office': 307,\n",
       " 'arena': 308,\n",
       " 'arenafan': 309,\n",
       " 'argentina_ranking': 310,\n",
       " 'arielaward': 311,\n",
       " 'arm': 312,\n",
       " 'arms': 313,\n",
       " 'arrest_date': 314,\n",
       " 'arrest_place': 315,\n",
       " 'arresting_authority': 316,\n",
       " 'arrondissement': 317,\n",
       " 'art': 318,\n",
       " 'artform': 319,\n",
       " 'article': 320,\n",
       " 'article_name': 321,\n",
       " 'article_title': 322,\n",
       " 'artist': 323,\n",
       " 'artist_name': 324,\n",
       " 'artisticdirector': 325,\n",
       " 'ascendants': 326,\n",
       " 'ascendency_from': 327,\n",
       " 'asdf|term_start': 328,\n",
       " 'asianfilmawards': 329,\n",
       " 'asiantvawards': 330,\n",
       " 'asiawins': 331,\n",
       " 'assembly': 332,\n",
       " 'assets': 333,\n",
       " 'assignments': 334,\n",
       " 'assist': 335,\n",
       " 'assistant': 336,\n",
       " 'assistcoach': 337,\n",
       " 'assistcoaches': 338,\n",
       " 'assists': 339,\n",
       " 'associate_acts': 340,\n",
       " 'associated': 341,\n",
       " 'associated_act': 342,\n",
       " 'associated_acts': 343,\n",
       " 'associated_artists': 344,\n",
       " 'associated_label': 345,\n",
       " 'associated_labels': 346,\n",
       " 'associated_labes': 347,\n",
       " 'associated_members': 348,\n",
       " 'associated_people': 349,\n",
       " 'associatedact': 350,\n",
       " 'associatedacts': 351,\n",
       " 'associatedact|children': 352,\n",
       " 'associatejudges': 353,\n",
       " 'associations': 354,\n",
       " 'associeted_acts': 355,\n",
       " 'at': 356,\n",
       " 'athletename': 357,\n",
       " 'athletics': 358,\n",
       " 'atl': 359,\n",
       " 'atlet_id': 360,\n",
       " 'attended': 361,\n",
       " 'attività': 362,\n",
       " 'attorney_general': 363,\n",
       " 'attributes': 364,\n",
       " 'attributes|patronage': 365,\n",
       " 'attutude': 366,\n",
       " 'audio_format': 367,\n",
       " 'australianopendoublesjuniorresult': 368,\n",
       " 'australianopendoublesresult': 369,\n",
       " 'australianopenjuniorresult': 370,\n",
       " 'australianopenmixeddoublesresult': 371,\n",
       " 'australianopenmixedresult': 372,\n",
       " 'australianopenresult': 373,\n",
       " 'austria|branch': 374,\n",
       " 'auswins': 375,\n",
       " 'author': 376,\n",
       " 'author_abbrev_bot': 377,\n",
       " 'author_abbrev_chem': 378,\n",
       " 'author_abbrev_zoo': 379,\n",
       " 'author_abbreviation_bot': 380,\n",
       " 'author_abbreviation_zoo': 381,\n",
       " 'authored&amp;nbsp;by': 382,\n",
       " 'auto': 383,\n",
       " 'autobiography': 384,\n",
       " 'average_salary': 385,\n",
       " 'award': 386,\n",
       " 'awarded': 387,\n",
       " 'awarded_by': 388,\n",
       " 'awardedby': 389,\n",
       " 'awardn': 390,\n",
       " 'awardname': 391,\n",
       " 'awards': 392,\n",
       " 'awards.': 393,\n",
       " 'awards/honours': 394,\n",
       " 'awards_and_honors': 395,\n",
       " 'awards_r': 396,\n",
       " 'awardssection': 397,\n",
       " 'awards|alma_mater': 398,\n",
       " 'awards|coaching_years': 399,\n",
       " 'awardw': 400,\n",
       " 'bachelor_students': 401,\n",
       " 'backcolor': 402,\n",
       " 'backcounty': 403,\n",
       " 'backgroud': 404,\n",
       " 'backgroun': 405,\n",
       " 'background': 406,\n",
       " 'background_color': 407,\n",
       " 'background|birth_name': 408,\n",
       " 'badge': 409,\n",
       " 'badge_number': 410,\n",
       " 'badgenumber': 411,\n",
       " 'badges': 412,\n",
       " 'badmintonposition': 413,\n",
       " 'badmintonprovince': 414,\n",
       " 'bafldraftedteam': 415,\n",
       " 'baflrookieyear': 416,\n",
       " 'baftaawards': 417,\n",
       " 'ballet_companies': 418,\n",
       " 'band': 419,\n",
       " 'band_members': 420,\n",
       " 'band_name': 421,\n",
       " 'bands': 422,\n",
       " 'banned': 423,\n",
       " 'baptised': 424,\n",
       " 'baptism_date': 425,\n",
       " 'baptism_name': 426,\n",
       " 'baptism_place': 427,\n",
       " 'baptized_date': 428,\n",
       " 'base': 429,\n",
       " 'based': 430,\n",
       " 'based_at': 431,\n",
       " 'basilica': 432,\n",
       " 'baskhof_id': 433,\n",
       " 'baskhof_year': 434,\n",
       " 'batles': 435,\n",
       " 'bats': 436,\n",
       " 'batting': 437,\n",
       " 'battle': 438,\n",
       " 'battles': 439,\n",
       " 'battles/war': 440,\n",
       " 'battles/wars': 441,\n",
       " 'battles_label': 442,\n",
       " 'bbirth_place': 443,\n",
       " 'bbr': 444,\n",
       " 'bday': 445,\n",
       " 'bdo': 446,\n",
       " 'beatified_by': 447,\n",
       " 'beatified_date': 448,\n",
       " 'beatified_place': 449,\n",
       " 'beatified_pope': 450,\n",
       " 'beautification': 451,\n",
       " 'before': 452,\n",
       " 'before_election': 453,\n",
       " 'before_party': 454,\n",
       " 'began': 455,\n",
       " 'beganskating': 456,\n",
       " 'beginyear': 457,\n",
       " 'belal_ahmed': 458,\n",
       " 'belief': 459,\n",
       " 'beliefs': 460,\n",
       " 'below': 461,\n",
       " 'belowstyle': 462,\n",
       " 'bengali': 463,\n",
       " 'bengali_name': 464,\n",
       " 'best': 465,\n",
       " 'best_busch_pos': 466,\n",
       " 'best_busch_position': 467,\n",
       " 'best_canada_pos': 468,\n",
       " 'best_champ_pos': 469,\n",
       " 'best_conv_pos': 470,\n",
       " 'best_corona_pos': 471,\n",
       " 'best_cup_pos': 472,\n",
       " 'best_cup_position': 473,\n",
       " 'best_friend': 474,\n",
       " 'best_gneast_pos': 475,\n",
       " 'best_irl_pos': 476,\n",
       " 'best_known': 477,\n",
       " 'best_known_for': 478,\n",
       " 'best_result': 479,\n",
       " 'best_result_in_': 480,\n",
       " 'best_roles': 481,\n",
       " 'best_seller': 482,\n",
       " 'best_truck_pos': 483,\n",
       " 'best_truck_position': 484,\n",
       " 'best_year': 485,\n",
       " 'bestknown': 486,\n",
       " 'bestwin': 487,\n",
       " 'bestwinyear': 488,\n",
       " 'bfa': 489,\n",
       " 'bff': 490,\n",
       " 'bfjaawards': 491,\n",
       " 'bg': 492,\n",
       " 'bgcccdfffffolour': 493,\n",
       " 'bgcolor': 494,\n",
       " 'bgcolour': 495,\n",
       " 'bgcoulor': 496,\n",
       " 'biejjjrth_place': 497,\n",
       " 'biggestfan': 498,\n",
       " 'biirth_name': 499,\n",
       " 'bild_storlek': 500,\n",
       " 'billed': 501,\n",
       " 'billed_from': 502,\n",
       " 'bindings': 503,\n",
       " 'biography': 504,\n",
       " 'birgh_place': 505,\n",
       " 'birh_date': 506,\n",
       " 'birh_place': 507,\n",
       " 'birrthname': 508,\n",
       " 'birt_name': 509,\n",
       " 'birtame': 510,\n",
       " 'birtdate|death_date': 511,\n",
       " 'birth': 512,\n",
       " \"birth''_date\": 513,\n",
       " 'birth_': 514,\n",
       " 'birth__name': 515,\n",
       " 'birth_age': 516,\n",
       " 'birth_birth': 517,\n",
       " 'birth_da': 518,\n",
       " 'birth_dae': 519,\n",
       " 'birth_dat': 520,\n",
       " 'birth_date': 521,\n",
       " 'birth_date_and_age': 522,\n",
       " 'birth_dateb': 523,\n",
       " 'birth_datel': 524,\n",
       " 'birth_dates': 525,\n",
       " 'birth_date|birth_place': 526,\n",
       " 'birth_day': 527,\n",
       " 'birth_dead': 528,\n",
       " 'birth_era': 529,\n",
       " 'birth_flag': 530,\n",
       " 'birth_nam': 531,\n",
       " 'birth_name': 532,\n",
       " 'birth_names': 533,\n",
       " 'birth_namw': 534,\n",
       " 'birth_nane': 535,\n",
       " 'birth_nme': 536,\n",
       " 'birth_nsme': 537,\n",
       " 'birth_pace': 538,\n",
       " 'birth_palce': 539,\n",
       " 'birth_parents': 540,\n",
       " 'birth_plac': 541,\n",
       " 'birth_place': 542,\n",
       " 'birth_place.': 543,\n",
       " 'birth_place_': 544,\n",
       " 'birth_place|death_date': 545,\n",
       " 'birth_place|resides': 546,\n",
       " 'birth_plae': 547,\n",
       " 'birth_plaxe': 548,\n",
       " 'birth_year': 549,\n",
       " 'birth_|death_date': 550,\n",
       " 'birth_°place': 551,\n",
       " 'birthanme': 552,\n",
       " 'birthdate': 553,\n",
       " 'birthday': 554,\n",
       " 'birthhame': 555,\n",
       " 'birthname': 556,\n",
       " 'birthnames': 557,\n",
       " 'birthplace': 558,\n",
       " 'birthplate': 559,\n",
       " 'birthvname': 560,\n",
       " 'birthxname': 561,\n",
       " 'birthyear': 562,\n",
       " 'birtname': 563,\n",
       " 'biryh_place': 564,\n",
       " 'bishop': 565,\n",
       " 'bishop_of': 566,\n",
       " 'bishops': 567,\n",
       " 'bith_bame': 568,\n",
       " 'bith_name': 569,\n",
       " 'bithday': 570,\n",
       " 'bitheplace': 571,\n",
       " 'blank': 572,\n",
       " 'blank_info_sec': 573,\n",
       " 'blank_name': 574,\n",
       " 'blank_name_sec': 575,\n",
       " 'blank_title': 576,\n",
       " 'blankname': 577,\n",
       " 'blazon': 578,\n",
       " 'blessed': 579,\n",
       " 'block': 580,\n",
       " 'blog': 581,\n",
       " 'blogurl': 582,\n",
       " 'blood': 583,\n",
       " 'blood_type': 584,\n",
       " 'bloodtype': 585,\n",
       " 'blood|type': 586,\n",
       " 'blowling': 587,\n",
       " 'blubs': 588,\n",
       " 'bmi': 589,\n",
       " 'bmonth': 590,\n",
       " 'board': 591,\n",
       " 'board_member': 592,\n",
       " 'boards': 593,\n",
       " 'bodies_discovered': 594,\n",
       " 'body': 595,\n",
       " 'body_discovered': 596,\n",
       " 'body_discovered_place': 597,\n",
       " 'body_found': 598,\n",
       " 'bodyclass': 599,\n",
       " 'bodystyle': 600,\n",
       " 'bodyweight': 601,\n",
       " 'bone': 602,\n",
       " 'book': 603,\n",
       " 'booking': 604,\n",
       " 'books': 605,\n",
       " 'boots': 606,\n",
       " 'border': 607,\n",
       " 'border|alt': 608,\n",
       " 'border|caption': 609,\n",
       " 'border|center|image_size': 610,\n",
       " 'border|link': 611,\n",
       " 'border|px|caption': 612,\n",
       " 'born': 613,\n",
       " 'born.': 614,\n",
       " 'born_in': 615,\n",
       " 'born_place': 616,\n",
       " 'bornname': 617,\n",
       " 'bowl_games': 618,\n",
       " 'bowl_list': 619,\n",
       " 'bowl_record': 620,\n",
       " 'bowlavg': 621,\n",
       " 'bowlgames': 622,\n",
       " 'bowling': 623,\n",
       " 'box_color': 624,\n",
       " 'box_decwin': 625,\n",
       " 'box_draw': 626,\n",
       " 'box_koloss': 627,\n",
       " 'box_kowin': 628,\n",
       " 'box_loss': 629,\n",
       " 'box_nc': 630,\n",
       " 'box_rec': 631,\n",
       " 'box_total': 632,\n",
       " 'box_width': 633,\n",
       " 'box_width|name': 634,\n",
       " 'box_win': 635,\n",
       " 'boxer': 636,\n",
       " 'boxername': 637,\n",
       " 'boxing_gym': 638,\n",
       " 'boxing_style': 639,\n",
       " 'boxingdecwins': 640,\n",
       " 'boxrec': 641,\n",
       " 'boxwidth': 642,\n",
       " 'boyfriend': 643,\n",
       " 'bpmf': 644,\n",
       " 'bra_size': 645,\n",
       " 'bracelets': 646,\n",
       " 'brance': 647,\n",
       " 'branch': 648,\n",
       " 'branch/unit': 649,\n",
       " 'branchy': 650,\n",
       " 'brand': 651,\n",
       " 'branding': 652,\n",
       " 'brandy': 653,\n",
       " 'breasts': 654,\n",
       " 'breed': 655,\n",
       " 'bridge_name': 656,\n",
       " 'britamateur': 657,\n",
       " 'brith_date': 658,\n",
       " 'brith_name': 659,\n",
       " 'brith_place': 660,\n",
       " 'britishleague': 661,\n",
       " 'britishopenresult': 662,\n",
       " 'british|field': 663,\n",
       " 'bronze': 664,\n",
       " 'brother': 665,\n",
       " 'brothers': 666,\n",
       " 'bsfan': 667,\n",
       " 'bsfaw': 668,\n",
       " 'buddhism': 669,\n",
       " 'budget': 670,\n",
       " 'builder': 671,\n",
       " 'building_name': 672,\n",
       " 'building_type': 673,\n",
       " 'buildings': 674,\n",
       " 'built': 675,\n",
       " 'bullets': 676,\n",
       " 'burial': 677,\n",
       " 'burial_date': 678,\n",
       " 'burial_location': 679,\n",
       " 'burial_name': 680,\n",
       " 'burial_place': 681,\n",
       " 'burial_site': 682,\n",
       " 'buried': 683,\n",
       " 'buried_date': 684,\n",
       " 'buried_place': 685,\n",
       " 'burmese_name': 686,\n",
       " 'burried': 687,\n",
       " 'busch_car_team': 688,\n",
       " 'busch_poles': 689,\n",
       " 'busch_top_tens': 690,\n",
       " 'busch_wins': 691,\n",
       " 'business': 692,\n",
       " 'businesses': 693,\n",
       " 'businessman': 694,\n",
       " 'bust': 695,\n",
       " 'bust_measurement': 696,\n",
       " 'bv_currentclub': 697,\n",
       " 'bv_nationalcaps': 698,\n",
       " 'bv_nationalteam': 699,\n",
       " 'bv_nationalyears': 700,\n",
       " 'bv_position': 701,\n",
       " 'bv_province': 702,\n",
       " 'bv_provinceyears': 703,\n",
       " 'bwf_id': 704,\n",
       " 'bwfid': 705,\n",
       " 'byear': 706,\n",
       " 'c': 707,\n",
       " 'caaption': 708,\n",
       " 'cabinet': 709,\n",
       " 'cabinet_name': 710,\n",
       " 'cabinet_number': 711,\n",
       " 'called': 712,\n",
       " 'called_by': 713,\n",
       " 'callsign': 714,\n",
       " 'camera': 715,\n",
       " 'campaign': 716,\n",
       " 'campaigns': 717,\n",
       " 'campus': 718,\n",
       " 'canada_car_team': 719,\n",
       " 'canada_poles': 720,\n",
       " 'canada_top_tens': 721,\n",
       " 'canada_wins': 722,\n",
       " 'canada|nationality': 723,\n",
       " 'canada|sport': 724,\n",
       " \"canadian_science_writers'_association_annual_award\": 725,\n",
       " 'canadian|field': 726,\n",
       " 'cand_id': 727,\n",
       " 'candidate': 728,\n",
       " 'canlaxhof': 729,\n",
       " 'cannes|nationality': 730,\n",
       " 'canonised': 731,\n",
       " 'canonised_by': 732,\n",
       " 'canonised_date': 733,\n",
       " 'canonised_place': 734,\n",
       " 'canonized_by': 735,\n",
       " 'canonized_date': 736,\n",
       " 'canonized_place': 737,\n",
       " 'cans': 738,\n",
       " 'canton': 739,\n",
       " 'caotion': 740,\n",
       " 'cap': 741,\n",
       " 'capabilities': 742,\n",
       " 'capacity': 743,\n",
       " 'capetion': 744,\n",
       " 'capital': 745,\n",
       " 'caprion': 746,\n",
       " 'caps': 747,\n",
       " 'caps.': 748,\n",
       " 'capsyouthclubs': 749,\n",
       " 'capt': 750,\n",
       " 'capt_size': 751,\n",
       " 'captain': 752,\n",
       " 'captaion': 753,\n",
       " 'captin': 754,\n",
       " 'captino': 755,\n",
       " 'captio': 756,\n",
       " 'caption': 757,\n",
       " 'caption.': 758,\n",
       " 'captionion': 759,\n",
       " 'captionn': 760,\n",
       " 'captionstyle': 761,\n",
       " 'caption|background': 762,\n",
       " 'caption|birth_date': 763,\n",
       " 'caption|birth_name': 764,\n",
       " 'caption|birth_place': 765,\n",
       " 'caption|currentteam': 766,\n",
       " 'caption|death_place': 767,\n",
       " 'caption|number': 768,\n",
       " 'caption|office': 769,\n",
       " 'captoin': 770,\n",
       " 'capton': 771,\n",
       " 'capture_status': 772,\n",
       " 'captured': 773,\n",
       " 'capyion': 774,\n",
       " 'car': 775,\n",
       " 'car_team': 776,\n",
       " 'cardinal': 777,\n",
       " 'career': 778,\n",
       " 'career_active': 779,\n",
       " 'career_caps': 780,\n",
       " 'career_death': 781,\n",
       " 'career_earnings': 782,\n",
       " 'career_end': 783,\n",
       " 'career_footnotes': 784,\n",
       " 'career_highlights': 785,\n",
       " 'career_number': 786,\n",
       " 'career_position': 787,\n",
       " 'career_profession': 788,\n",
       " 'career_record': 789,\n",
       " 'career_start': 790,\n",
       " 'career_teams': 791,\n",
       " 'careerhighlights': 792,\n",
       " 'careerprizemoney': 793,\n",
       " 'careerrecord': 794,\n",
       " 'careertitles': 795,\n",
       " 'cargo': 796,\n",
       " 'caricaturist': 797,\n",
       " 'carlow|icposition': 798,\n",
       " 'carrier_highest_ranking': 799,\n",
       " 'carries': 800,\n",
       " 'cars': 801,\n",
       " 'cartoon': 802,\n",
       " 'cartoonist': 803,\n",
       " 'cases_per_year': 804,\n",
       " 'casp': 805,\n",
       " 'cast': 806,\n",
       " 'caste': 807,\n",
       " 'caste_name': 808,\n",
       " 'casualties': 809,\n",
       " 'casus': 810,\n",
       " 'cat': 811,\n",
       " 'catalogue': 812,\n",
       " 'catch_frase': 813,\n",
       " 'catches': 814,\n",
       " 'catches/stumpings': 815,\n",
       " 'categorie': 816,\n",
       " 'categories': 817,\n",
       " 'category': 818,\n",
       " 'cathces': 819,\n",
       " 'cathedral': 820,\n",
       " 'cattles': 821,\n",
       " 'caught': 822,\n",
       " 'caught_date': 823,\n",
       " 'cause': 824,\n",
       " 'cause_death': 825,\n",
       " 'cause_for_canonization_date': 826,\n",
       " 'cause_note': 827,\n",
       " 'cause_of_death': 828,\n",
       " 'causeofdeath': 829,\n",
       " 'causes': 830,\n",
       " 'cbasehof_year': 831,\n",
       " 'cbbaskhof_year': 832,\n",
       " 'cbs': 833,\n",
       " 'cc_active': 834,\n",
       " 'cclubs': 835,\n",
       " 'ccupation': 836,\n",
       " 'cdagh_date': 837,\n",
       " 'cell': 838,\n",
       " 'cemetery_buried': 839,\n",
       " 'centerpx|birth_date': 840,\n",
       " 'centerpx|blazon': 841,\n",
       " 'centerpx|caption': 842,\n",
       " 'centerpx|center|blazon': 843,\n",
       " 'center|alt': 844,\n",
       " 'center|birth_date': 845,\n",
       " 'center|caption': 846,\n",
       " 'center|citizenship': 847,\n",
       " 'center|coccinelle|birth_name': 848,\n",
       " 'center|currentnumber': 849,\n",
       " 'center|name': 850,\n",
       " 'center|office': 851,\n",
       " 'center|position': 852,\n",
       " 'center|px|birth_place': 853,\n",
       " 'center|thumb|caption': 854,\n",
       " 'center|upright': 855,\n",
       " 'center|vijayanand|birth_date': 856,\n",
       " 'center||birth_name': 857,\n",
       " 'centre|alt': 858,\n",
       " 'centre|image_size': 859,\n",
       " 'centre|office': 860,\n",
       " 'centre|upright': 861,\n",
       " 'centre||birth_date': 862,\n",
       " 'centuries': 863,\n",
       " 'ceo': 864,\n",
       " 'certificate': 865,\n",
       " 'certification': 866,\n",
       " 'cerviceyears': 867,\n",
       " 'cesarawards': 868,\n",
       " 'cfbdwid': 869,\n",
       " 'cfbhof_id': 870,\n",
       " 'cfbhof_year': 871,\n",
       " 'cfhof': 872,\n",
       " 'cfhofyear': 873,\n",
       " 'cfl': 874,\n",
       " \"cfl'smostoutstandingdefensiveplayeraward\": 875,\n",
       " 'cfl_draft': 876,\n",
       " 'cflallstar': 877,\n",
       " 'cfldraftedpick': 878,\n",
       " 'cfldraftedround': 879,\n",
       " 'cfldraftedteam': 880,\n",
       " 'cfldraftedyear': 881,\n",
       " 'cfldraftpick': 882,\n",
       " 'cfldraftround': 883,\n",
       " 'cfldraftteam': 884,\n",
       " 'cfldraftyear': 885,\n",
       " 'cfleastallstar': 886,\n",
       " 'cflimport': 887,\n",
       " 'cflnorthernallstar': 888,\n",
       " 'cflpaallstar': 889,\n",
       " 'cflrookieyear': 890,\n",
       " 'cflsouthallstar': 891,\n",
       " 'cflstatlabe': 892,\n",
       " 'cflstatlabel': 893,\n",
       " 'cflstatseason': 894,\n",
       " 'cflstatus': 895,\n",
       " 'cflstatvalue': 896,\n",
       " 'cflstatweek': 897,\n",
       " 'cflundraftedyear': 898,\n",
       " 'cflwestallstar': 899,\n",
       " 'cflweststar': 900,\n",
       " 'ch': 901,\n",
       " 'chairman': 902,\n",
       " 'chalwins': 903,\n",
       " 'chambers': 904,\n",
       " 'champ_car_team': 905,\n",
       " 'champ_podiums': 906,\n",
       " 'champ_poles': 907,\n",
       " 'champ_wins': 908,\n",
       " 'champion': 909,\n",
       " 'champions': 910,\n",
       " 'championship': 911,\n",
       " 'championship_list': 912,\n",
       " 'championships': 913,\n",
       " 'champwins': 914,\n",
       " 'chancellor': 915,\n",
       " 'channel': 916,\n",
       " 'channel_name': 917,\n",
       " 'channels': 918,\n",
       " 'chant': 919,\n",
       " 'character': 920,\n",
       " 'character_name': 921,\n",
       " 'charge': 922,\n",
       " 'charges': 923,\n",
       " 'charman': 924,\n",
       " 'chart': 925,\n",
       " 'charte': 926,\n",
       " 'chassis': 927,\n",
       " 'chest': 928,\n",
       " 'chief_executive': 929,\n",
       " 'chief_minister': 930,\n",
       " 'chiefexecutive': 931,\n",
       " 'chiefjudge': 932,\n",
       " 'chiefminister': 933,\n",
       " 'chihldren': 934,\n",
       " 'child': 935,\n",
       " 'childen': 936,\n",
       " 'childern': 937,\n",
       " 'childhood_home': 938,\n",
       " 'childrean': 939,\n",
       " 'childreen': 940,\n",
       " 'children': 941,\n",
       " \"children's\": 942,\n",
       " 'children.': 943,\n",
       " 'childrens': 944,\n",
       " 'chinese': 945,\n",
       " 'chinese_name': 946,\n",
       " 'chinesename': 947,\n",
       " 'chinesezodiac': 948,\n",
       " 'chlid': 949,\n",
       " 'chlidren': 950,\n",
       " 'choreographer': 951,\n",
       " 'christened_date': 952,\n",
       " 'christening_date': 953,\n",
       " 'christening_place': 954,\n",
       " 'chronology': 955,\n",
       " 'chruch': 956,\n",
       " 'church': 957,\n",
       " 'churches': 958,\n",
       " 'chyavana_date': 959,\n",
       " 'chyavana_place': 960,\n",
       " 'ci': 961,\n",
       " 'cihuacoatl': 962,\n",
       " 'cinematography': 963,\n",
       " 'circonscription': 964,\n",
       " 'circulation': 965,\n",
       " 'circumscription': 966,\n",
       " 'cis': 967,\n",
       " 'citations': 968,\n",
       " 'cite': 969,\n",
       " 'citenzip': 970,\n",
       " 'citisenship': 971,\n",
       " 'citizen': 972,\n",
       " 'citizen_ship': 973,\n",
       " 'citizens': 974,\n",
       " 'citizenship': 975,\n",
       " 'citizenship|nationality': 976,\n",
       " 'citizenship|occupation': 977,\n",
       " 'city': 978,\n",
       " 'city_of_residence': 979,\n",
       " 'cityofbirth': 980,\n",
       " 'cityofbirth_place': 981,\n",
       " 'cityofdeath': 982,\n",
       " 'cityyofdeath': 983,\n",
       " 'clalireland': 984,\n",
       " 'clallireland': 985,\n",
       " 'clallirelandf': 986,\n",
       " 'clallirelandh': 987,\n",
       " 'clan': 988,\n",
       " 'clan_name': 989,\n",
       " 'class': 990,\n",
       " 'classes': 991,\n",
       " 'classification': 992,\n",
       " 'classifications': 993,\n",
       " 'classno': 994,\n",
       " 'clcounty': 995,\n",
       " 'clcountyf': 996,\n",
       " 'clcountyh': 997,\n",
       " 'clients': 998,\n",
       " 'closed': 999,\n",
       " ...}"
      ]
     },
     "execution_count": 131,
     "metadata": {},
     "output_type": "execute_result"
    }
   ],
   "source": [
    "train_infobox_lookup_table"
   ]
  },
  {
   "cell_type": "code",
   "execution_count": 47,
   "metadata": {
    "scrolled": false
   },
   "outputs": [
    {
     "data": {
      "text/plain": [
       "['train_infobox',\n",
       " 'train_nb',\n",
       " 'train_sent',\n",
       " 'train_sent_tokens',\n",
       " 'train_sent_vectorized',\n",
       " 'train_sent_vectorizer',\n",
       " 'train_frequency',\n",
       " 'train_embedding_lookup_table',\n",
       " 'train_infobox_sum',\n",
       " 'train_infobox_sum_vectorizer',\n",
       " 'train_infobox_lookup_table']"
      ]
     },
     "execution_count": 47,
     "metadata": {},
     "output_type": "execute_result"
    }
   ],
   "source": [
    "[k for k, v in globals().items() if k.startswith('train_')]"
   ]
  },
  {
   "cell_type": "markdown",
   "metadata": {},
   "source": []
  },
  {
   "cell_type": "code",
   "execution_count": 55,
   "metadata": {},
   "outputs": [
    {
     "data": {
      "application/vnd.jupyter.widget-view+json": {
       "model_id": "51b7414257004485b9c670c093411c68",
       "version_major": 2,
       "version_minor": 0
      },
      "text/plain": [
       "A Jupyter Widget"
      ]
     },
     "metadata": {},
     "output_type": "display_data"
    },
    {
     "name": "stdout",
     "output_type": "stream",
     "text": [
      "\n"
     ]
    },
    {
     "data": {
      "application/vnd.jupyter.widget-view+json": {
       "model_id": "80199bd6de7e4d0d8e019499c9b09c82",
       "version_major": 2,
       "version_minor": 0
      },
      "text/plain": [
       "A Jupyter Widget"
      ]
     },
     "metadata": {},
     "output_type": "display_data"
    },
    {
     "name": "stdout",
     "output_type": "stream",
     "text": [
      "\n"
     ]
    },
    {
     "data": {
      "application/vnd.jupyter.widget-view+json": {
       "model_id": "c0b1f6395b184552aff8c668d375b66a",
       "version_major": 2,
       "version_minor": 0
      },
      "text/plain": [
       "A Jupyter Widget"
      ]
     },
     "metadata": {},
     "output_type": "display_data"
    },
    {
     "name": "stdout",
     "output_type": "stream",
     "text": [
      "\n"
     ]
    }
   ],
   "source": [
    "train_token_lengths = train_sent_tokens.progress_apply(len)\n",
    "valid_token_lengths = valid_sent_tokens.progress_apply(len)\n",
    "test_token_lengths = test_sent_tokens.progress_apply(len)"
   ]
  },
  {
   "cell_type": "markdown",
   "metadata": {},
   "source": [
    "## Statistics"
   ]
  },
  {
   "cell_type": "markdown",
   "metadata": {},
   "source": [
    "### Sentence"
   ]
  },
  {
   "cell_type": "code",
   "execution_count": 58,
   "metadata": {
    "scrolled": true
   },
   "outputs": [
    {
     "data": {
      "text/plain": [
       "array([[ 1.,  8., 10., 11., 12., 13., 13., 14., 14., 14.],\n",
       "       [15., 15., 15., 16., 16., 16., 16., 17., 17., 17.],\n",
       "       [17., 18., 18., 18., 18., 18., 19., 19., 19., 19.],\n",
       "       [20., 20., 20., 20., 21., 21., 21., 21., 21., 22.],\n",
       "       [22., 22., 22., 22., 23., 23., 23., 23., 24., 24.],\n",
       "       [24., 24., 25., 25., 25., 25., 26., 26., 26., 26.],\n",
       "       [27., 27., 27., 27., 28., 28., 28., 29., 29., 29.],\n",
       "       [30., 30., 30., 31., 31., 31., 32., 32., 32., 33.],\n",
       "       [33., 34., 34., 35., 35., 36., 37., 37., 38., 39.],\n",
       "       [40., 41., 42., 43., 45., 46., 48., 51., 55., 62.]])"
      ]
     },
     "execution_count": 58,
     "metadata": {},
     "output_type": "execute_result"
    }
   ],
   "source": [
    "np.reshape(np.percentile(train_token_lengths, range(100)), [10, 10])"
   ]
  },
  {
   "cell_type": "code",
   "execution_count": 80,
   "metadata": {},
   "outputs": [
    {
     "data": {
      "text/plain": [
       "array([13., 46.])"
      ]
     },
     "execution_count": 80,
     "metadata": {},
     "output_type": "execute_result"
    }
   ],
   "source": [
    "np.percentile(train_token_lengths, [5, 95])"
   ]
  },
  {
   "cell_type": "code",
   "execution_count": 82,
   "metadata": {},
   "outputs": [
    {
     "data": {
      "text/plain": [
       "26.05811289278978"
      ]
     },
     "execution_count": 82,
     "metadata": {},
     "output_type": "execute_result"
    }
   ],
   "source": [
    "np.mean(train_token_lengths)"
   ]
  },
  {
   "cell_type": "code",
   "execution_count": 59,
   "metadata": {
    "scrolled": true
   },
   "outputs": [
    {
     "data": {
      "text/plain": [
       "271"
      ]
     },
     "execution_count": 59,
     "metadata": {},
     "output_type": "execute_result"
    }
   ],
   "source": [
    "max(train_token_lengths)"
   ]
  },
  {
   "cell_type": "code",
   "execution_count": 63,
   "metadata": {},
   "outputs": [
    {
     "data": {
      "text/plain": [
       "[('walter', [['name', 1, 2], ['article_title', 1, 2]]),\n",
       " ('extra', [['name', 2, 1], ['article_title', 2, 1]]),\n",
       " ('is', []),\n",
       " ('a', []),\n",
       " ('german', [['nationality', 1, 1]]),\n",
       " ('award-winning', []),\n",
       " ('aerobatic', []),\n",
       " ('pilot', []),\n",
       " (',', []),\n",
       " ('chief', []),\n",
       " ('aircraft', [['occupation', 1, 4]]),\n",
       " ('designer', [['occupation', 2, 3]]),\n",
       " ('and', [['occupation', 3, 2]]),\n",
       " ('founder', []),\n",
       " ('of', []),\n",
       " ('extra', [['name', 2, 1], ['article_title', 2, 1]]),\n",
       " ('flugzeugbau', []),\n",
       " ('-lrb-', []),\n",
       " ('extra', [['name', 2, 1], ['article_title', 2, 1]]),\n",
       " ('aircraft', [['occupation', 1, 4]]),\n",
       " ('construction', []),\n",
       " ('-rrb-', []),\n",
       " (',', []),\n",
       " ('a', []),\n",
       " ('manufacturer', [['occupation', 4, 1]]),\n",
       " ('of', []),\n",
       " ('aerobatic', []),\n",
       " ('aircraft', [['occupation', 1, 4]]),\n",
       " ('.', [])]"
      ]
     },
     "execution_count": 63,
     "metadata": {},
     "output_type": "execute_result"
    }
   ],
   "source": [
    "train_sent_tokens[0]"
   ]
  },
  {
   "cell_type": "code",
   "execution_count": 65,
   "metadata": {},
   "outputs": [
    {
     "data": {
      "application/vnd.jupyter.widget-view+json": {
       "model_id": "6c88094284b245759cae8312059db6dd",
       "version_major": 2,
       "version_minor": 0
      },
      "text/plain": [
       "A Jupyter Widget"
      ]
     },
     "metadata": {},
     "output_type": "display_data"
    },
    {
     "name": "stdout",
     "output_type": "stream",
     "text": [
      "\n"
     ]
    },
    {
     "data": {
      "application/vnd.jupyter.widget-view+json": {
       "model_id": "ad5811c296684902818ca8c12cc7e307",
       "version_major": 2,
       "version_minor": 0
      },
      "text/plain": [
       "A Jupyter Widget"
      ]
     },
     "metadata": {},
     "output_type": "display_data"
    },
    {
     "name": "stdout",
     "output_type": "stream",
     "text": [
      "\n"
     ]
    },
    {
     "data": {
      "application/vnd.jupyter.widget-view+json": {
       "model_id": "7877fd3931964d2d82673f798e263b2f",
       "version_major": 2,
       "version_minor": 0
      },
      "text/plain": [
       "A Jupyter Widget"
      ]
     },
     "metadata": {},
     "output_type": "display_data"
    },
    {
     "name": "stdout",
     "output_type": "stream",
     "text": [
      "\n"
     ]
    }
   ],
   "source": [
    "train_table_token_lengths = train_sent_tokens.progress_apply(lambda x: len([i for i in x if i[1]]))\n",
    "valid_table_token_lengths = valid_sent_tokens.progress_apply(lambda x: len([i for i in x if i[1]]))\n",
    "test_table_token_lengths = test_sent_tokens.progress_apply(lambda x: len([i for i in x if i[1]]))"
   ]
  },
  {
   "cell_type": "code",
   "execution_count": 66,
   "metadata": {},
   "outputs": [
    {
     "data": {
      "text/plain": [
       "array([[ 0.,  2.,  3.,  3.,  3.,  4.,  4.,  4.,  5.,  5.],\n",
       "       [ 5.,  5.,  6.,  6.,  6.,  6.,  6.,  6.,  7.,  7.],\n",
       "       [ 7.,  7.,  7.,  7.,  7.,  8.,  8.,  8.,  8.,  8.],\n",
       "       [ 8.,  8.,  8.,  9.,  9.,  9.,  9.,  9.,  9.,  9.],\n",
       "       [ 9.,  9., 10., 10., 10., 10., 10., 10., 10., 10.],\n",
       "       [11., 11., 11., 11., 11., 11., 11., 12., 12., 12.],\n",
       "       [12., 12., 12., 12., 13., 13., 13., 13., 13., 13.],\n",
       "       [14., 14., 14., 14., 14., 14., 15., 15., 15., 15.],\n",
       "       [16., 16., 16., 16., 17., 17., 17., 18., 18., 19.],\n",
       "       [19., 20., 20., 21., 22., 23., 24., 25., 27., 31.]])"
      ]
     },
     "execution_count": 66,
     "metadata": {},
     "output_type": "execute_result"
    }
   ],
   "source": [
    "np.reshape(np.percentile(train_table_token_lengths, range(100)), [10, 10])"
   ]
  },
  {
   "cell_type": "code",
   "execution_count": 83,
   "metadata": {},
   "outputs": [
    {
     "data": {
      "text/plain": [
       "array([ 4., 11., 23.])"
      ]
     },
     "execution_count": 83,
     "metadata": {},
     "output_type": "execute_result"
    }
   ],
   "source": [
    "np.percentile(train_table_token_lengths, [5, 50, 95])"
   ]
  },
  {
   "cell_type": "code",
   "execution_count": 84,
   "metadata": {},
   "outputs": [
    {
     "data": {
      "text/plain": [
       "11.570467460384204"
      ]
     },
     "execution_count": 84,
     "metadata": {},
     "output_type": "execute_result"
    }
   ],
   "source": [
    "np.mean(train_table_token_lengths)"
   ]
  },
  {
   "cell_type": "code",
   "execution_count": 67,
   "metadata": {},
   "outputs": [
    {
     "data": {
      "text/plain": [
       "124"
      ]
     },
     "execution_count": 67,
     "metadata": {},
     "output_type": "execute_result"
    }
   ],
   "source": [
    "max(train_table_token_lengths)"
   ]
  },
  {
   "cell_type": "markdown",
   "metadata": {},
   "source": [
    "### Infobox"
   ]
  },
  {
   "cell_type": "code",
   "execution_count": 95,
   "metadata": {
    "scrolled": true
   },
   "outputs": [
    {
     "data": {
      "text/plain": [
       "0         {'1954': [['birth_date', 1, 1]], 'aircraft': [...\n",
       "1         {',': [['birth_place', 2, 5], ['birth_place', ...\n",
       "2         {''s': [['known_for', 2, 4]], ',': [['birth_pl...\n",
       "3         {',': [['birth_place', 2, 4], ['birth_place', ...\n",
       "4         {''': [['years', 11, 1]], '''': [['years', 7, ...\n",
       "5         {',': [['birth_place', 2, 4], ['birth_place', ...\n",
       "6         {',': [['birth_place', 2, 2]], '-': [['years',...\n",
       "7         {',': [['birth_place', 2, 2]], '--': [['youthy...\n",
       "8         {'''': [['occupation', 6, 4], ['occupation', 8...\n",
       "9         {',': [['birth_date', 3, 2], ['birth_place', 2...\n",
       "10        {',': [['birth_place', 2, 2]], 'l.': [['captio...\n",
       "11        {'-': [['fivefor', 1, 2], ['tenfor', 1, 2]], '...\n",
       "12        {',': [['image', 3, 5], ['term_start', 3, 22],...\n",
       "13        {',': [['birth_place', 3, 2], ['death_place', ...\n",
       "14        {',': [['birth_place', 2, 2], ['pcupdate', 2, ...\n",
       "15        {',': [['birth_place', 2, 2], ['pcupdate', 2, ...\n",
       "16        {',': [['birth_place', 2, 4], ['birth_place', ...\n",
       "17        {'#': [['bgcolour', 1, 2]], '''': [['awards', ...\n",
       "18        {',': [['birth_place', 2, 5], ['birth_place', ...\n",
       "19        {',': [['occupation', 3, 7], ['birth_place', 2...\n",
       "20        {',': [['birth_place', 3, 2]], '.239': [['stat...\n",
       "21        {'&': [['worldsteams', 10, 10], ['worldsteams'...\n",
       "22        {'''': [['name', 4, 2], ['birth_name', 4, 2]],...\n",
       "23        {'17': [['birth_date', 1, 3]], '1833': [['birt...\n",
       "24        {''s': [['party', 10, 2]], ',': [['birth_date'...\n",
       "25        {'--': [['ru_clubyears', 2, 2], ['superyears',...\n",
       "26        {'%': [['singlesrecord', 6, 2]], ''': [['highe...\n",
       "27        {',': [['birth_place', 2, 2], ['death_place', ...\n",
       "28        {',': [['birth_place', 2, 2], ['profession', 2...\n",
       "29        {',': [['birth_place', 2, 2]], '--': [['years'...\n",
       "                                ...                        \n",
       "582629    {',': [['birth_place', 2, 2], ['influences', 3...\n",
       "582630    {',': [['birth_place', 2, 2]], '13': [['birth_...\n",
       "582631    {',': [['birth_place', 2, 2], ['occupation', 2...\n",
       "582632    {',': [['birth_place', 3, 3]], '19': [['death_...\n",
       "582633    {',': [['birth_place', 2, 4], ['birth_place', ...\n",
       "582634    {',': [['term_start', 3, 8], ['term_start', 7,...\n",
       "582635    {'-': [['years', 5, 1]], '1.74': [['height', 1...\n",
       "582636    {',': [['birth_place', 2, 3]], '.274': [['stat...\n",
       "582637    {',': [['icupdate', 2, 4], ['birth_place', 2, ...\n",
       "582638    {',': [['caption', 5, 2], ['birth_place', 3, 3...\n",
       "582639    {''s': [['website', 16, 3]], ',': [['image', 3...\n",
       "582640    {',': [['origin', 3, 5], ['origin', 5, 3]], '-...\n",
       "582641    {',': [['office', 6, 2], ['birth_place', 2, 5]...\n",
       "582642    {',': [['origin', 2, 2], ['genre', 3, 6], ['ge...\n",
       "582643    {'-lrb-': [['clubs', 8, 17]], '-rrb-': [['club...\n",
       "582644    {',': [['origin', 2, 2]], '-': [['image', 3, 8...\n",
       "582645    {',': [['championships', 5, 2], ['awards', 8, ...\n",
       "582646    {',': [['birth_place', 2, 2]], '1989': [['birt...\n",
       "582647    {',': [['occupation', 2, 8], ['occupation', 6,...\n",
       "582648    {',': [['birth_place', 3, 2]], '-lrb-': [['art...\n",
       "582649    {'''': [['successor', 1, 3], ['successor', 3, ...\n",
       "582650    {'17': [['feast_day', 1, 2]], '680': [['death_...\n",
       "582651    {',': [['caption', 3, 3], ['birth_place', 2, 2...\n",
       "582652    {',': [['birth_place', 2, 2], ['death_place', ...\n",
       "582653    {''': [['title', 2, 2]], ',': [['birth_place',...\n",
       "582654    {',': [['birth_place', 2, 2], ['genre', 2, 2],...\n",
       "582655    {''s': [['genre', 8, 2]], ',': [['pseudonym', ...\n",
       "582656    {',': [['birth_place', 2, 2], ['genre', 2, 6],...\n",
       "582657    {',': [['name', 3, 2], ['residence', 3, 2]], '...\n",
       "582658    {',': [['residence', 2, 2]], '2007': [['term_s...\n",
       "Name: data, Length: 582659, dtype: object"
      ]
     },
     "execution_count": 95,
     "metadata": {},
     "output_type": "execute_result"
    }
   ],
   "source": [
    "train_infobox['data']"
   ]
  },
  {
   "cell_type": "code",
   "execution_count": 88,
   "metadata": {},
   "outputs": [
    {
     "data": {
      "application/vnd.jupyter.widget-view+json": {
       "model_id": "112d29b31f0b457ca3806bfaaa6ece76",
       "version_major": 2,
       "version_minor": 0
      },
      "text/plain": [
       "A Jupyter Widget"
      ]
     },
     "metadata": {},
     "output_type": "display_data"
    },
    {
     "name": "stdout",
     "output_type": "stream",
     "text": [
      "\n"
     ]
    },
    {
     "data": {
      "application/vnd.jupyter.widget-view+json": {
       "model_id": "dab0ccf98f534e4eb37a004133863e76",
       "version_major": 2,
       "version_minor": 0
      },
      "text/plain": [
       "A Jupyter Widget"
      ]
     },
     "metadata": {},
     "output_type": "display_data"
    },
    {
     "name": "stdout",
     "output_type": "stream",
     "text": [
      "\n"
     ]
    },
    {
     "data": {
      "application/vnd.jupyter.widget-view+json": {
       "model_id": "39dbacba233049c8bc16f735803250ef",
       "version_major": 2,
       "version_minor": 0
      },
      "text/plain": [
       "A Jupyter Widget"
      ]
     },
     "metadata": {},
     "output_type": "display_data"
    },
    {
     "name": "stdout",
     "output_type": "stream",
     "text": [
      "\n"
     ]
    }
   ],
   "source": [
    "train_infobox_field_count = train_infobox['data'].progress_apply(len)\n",
    "valid_infobox_field_count = valid_infobox['data'].progress_apply(len)\n",
    "test_infobox_field_count = test_infobox['data'].progress_apply(len)"
   ]
  },
  {
   "cell_type": "code",
   "execution_count": 90,
   "metadata": {},
   "outputs": [
    {
     "data": {
      "application/vnd.jupyter.widget-view+json": {
       "model_id": "7d3188bd3f15452f96493f3ee44d00af",
       "version_major": 2,
       "version_minor": 0
      },
      "text/plain": [
       "A Jupyter Widget"
      ]
     },
     "metadata": {},
     "output_type": "display_data"
    },
    {
     "name": "stdout",
     "output_type": "stream",
     "text": [
      "\n"
     ]
    },
    {
     "data": {
      "application/vnd.jupyter.widget-view+json": {
       "model_id": "31c01510304c488984df579a8fde7e79",
       "version_major": 2,
       "version_minor": 0
      },
      "text/plain": [
       "A Jupyter Widget"
      ]
     },
     "metadata": {},
     "output_type": "display_data"
    },
    {
     "name": "stdout",
     "output_type": "stream",
     "text": [
      "\n"
     ]
    },
    {
     "data": {
      "application/vnd.jupyter.widget-view+json": {
       "model_id": "c22a146707644acc889c83c6e49b7736",
       "version_major": 2,
       "version_minor": 0
      },
      "text/plain": [
       "A Jupyter Widget"
      ]
     },
     "metadata": {},
     "output_type": "display_data"
    },
    {
     "name": "stdout",
     "output_type": "stream",
     "text": [
      "\n"
     ]
    }
   ],
   "source": [
    "train_infobox_token_count = train_infobox['data'].progress_apply(lambda row: sum([len(i) for i in row.values()]))\n",
    "valid_infobox_token_count = valid_infobox['data'].progress_apply(lambda row: sum([len(i) for i in row.values()]))\n",
    "test_infobox_token_count = test_infobox['data'].progress_apply(lambda row: sum([len(i) for i in row.values()]))"
   ]
  },
  {
   "cell_type": "code",
   "execution_count": 125,
   "metadata": {},
   "outputs": [
    {
     "data": {
      "text/plain": [
       "array([ 5., 12., 21.])"
      ]
     },
     "execution_count": 125,
     "metadata": {},
     "output_type": "execute_result"
    }
   ],
   "source": [
    "np.percentile(train_infobox_field_count, [5, 50, 95])"
   ]
  },
  {
   "cell_type": "code",
   "execution_count": 126,
   "metadata": {
    "scrolled": true
   },
   "outputs": [
    {
     "data": {
      "text/plain": [
       "12.449932121532491"
      ]
     },
     "execution_count": 126,
     "metadata": {},
     "output_type": "execute_result"
    }
   ],
   "source": [
    "np.mean(train_infobox_field_count)"
   ]
  },
  {
   "cell_type": "code",
   "execution_count": 93,
   "metadata": {},
   "outputs": [
    {
     "data": {
      "text/plain": [
       "array([ 13.,  39., 101.])"
      ]
     },
     "execution_count": 93,
     "metadata": {},
     "output_type": "execute_result"
    }
   ],
   "source": [
    "np.percentile(train_infobox_token_count, [5, 50, 95])"
   ]
  },
  {
   "cell_type": "code",
   "execution_count": 94,
   "metadata": {},
   "outputs": [
    {
     "data": {
      "text/plain": [
       "45.813290449473875"
      ]
     },
     "execution_count": 94,
     "metadata": {},
     "output_type": "execute_result"
    }
   ],
   "source": [
    "np.mean(train_infobox_token_count)"
   ]
  },
  {
   "cell_type": "code",
   "execution_count": 107,
   "metadata": {},
   "outputs": [
    {
     "data": {
      "text/plain": [
       "dict_values([[['birth_date', 1, 1]], [['occupation', 1, 4]], [['occupation', 3, 2]], [['occupation', 2, 3]], [['name', 2, 1], ['article_title', 2, 1]], [['nationality', 1, 1]], [['occupation', 4, 1]], [['name', 1, 2], ['article_title', 1, 2]]])"
      ]
     },
     "execution_count": 107,
     "metadata": {},
     "output_type": "execute_result"
    }
   ],
   "source": [
    "train_infobox['data'][0].values()"
   ]
  },
  {
   "cell_type": "code",
   "execution_count": 124,
   "metadata": {},
   "outputs": [
    {
     "data": {
      "application/vnd.jupyter.widget-view+json": {
       "model_id": "28efba726054435499fa5d078a6cf9b1",
       "version_major": 2,
       "version_minor": 0
      },
      "text/plain": [
       "A Jupyter Widget"
      ]
     },
     "metadata": {},
     "output_type": "display_data"
    },
    {
     "name": "stdout",
     "output_type": "stream",
     "text": [
      "\n"
     ]
    },
    {
     "data": {
      "application/vnd.jupyter.widget-view+json": {
       "model_id": "22cd62ada12b448eac05c2d7bf33ed83",
       "version_major": 2,
       "version_minor": 0
      },
      "text/plain": [
       "A Jupyter Widget"
      ]
     },
     "metadata": {},
     "output_type": "display_data"
    },
    {
     "data": {
      "application/vnd.jupyter.widget-view+json": {
       "model_id": "e72b5891fab54250869faf9d0ae3f270",
       "version_major": 2,
       "version_minor": 0
      },
      "text/plain": [
       "A Jupyter Widget"
      ]
     },
     "metadata": {},
     "output_type": "display_data"
    }
   ],
   "source": [
    "from itertools import chain\n",
    "train_infobox_field_count = train_infobox['data'].progress_apply(lambda row: len(set([i[0] for i in list(chain.from_iterable(row.values()))])))\n",
    "valid_infobox_field_count = valid_infobox['data'].progress_apply(lambda row: len(set([i[0] for i in list(chain.from_iterable(row.values()))])))\n",
    "test_infobox_field_count = test_infobox['data'].progress_apply(lambda row: len(set([i[0] for i in list(chain.from_iterable(row.values()))])))"
   ]
  },
  {
   "cell_type": "markdown",
   "metadata": {},
   "source": [
    "### Custom class"
   ]
  },
  {
   "cell_type": "code",
   "execution_count": 151,
   "metadata": {
    "collapsed": true
   },
   "outputs": [],
   "source": [
    "class TupleVectorizer:\n",
    "    \"\"\"TODO use actual sklearn mixin\"\"\"\n",
    "    def __init__(self):\n",
    "        self.size = 0\n",
    "        self._map = dict()\n",
    "        self._features = []\n",
    "    def progress_fit(self, X):\n",
    "        self._map = dict()\n",
    "        for x in tqdm_notebook(X):\n",
    "            self.partial_fit(x)\n",
    "    def partial_fit(self, x):\n",
    "        if x not in self._map:\n",
    "            self._map[x] = self.size\n",
    "            self._features.append(x)\n",
    "            self.size += 1\n",
    "    def transform(self, X):\n",
    "        return [self._map.get(x, -1) for x in X]\n",
    "    def get_feature_names(self):\n",
    "        return self._features\n",
    "    \n",
    "            \n",
    "v = TupleVectorizer()"
   ]
  },
  {
   "cell_type": "markdown",
   "metadata": {},
   "source": [
    "### Move the below to input layer"
   ]
  },
  {
   "cell_type": "code",
   "execution_count": 127,
   "metadata": {},
   "outputs": [
    {
     "data": {
      "text/plain": [
       "['train_sent',\n",
       " 'train_sent_tokens',\n",
       " 'train_sent_vectorized',\n",
       " 'train_sent_vectorizer']"
      ]
     },
     "execution_count": 127,
     "metadata": {},
     "output_type": "execute_result"
    }
   ],
   "source": [
    "[k for k, v in globals().items() if k.startswith('train_sent')]"
   ]
  },
  {
   "cell_type": "code",
   "execution_count": 155,
   "metadata": {},
   "outputs": [
    {
     "data": {
      "application/vnd.jupyter.widget-view+json": {
       "model_id": "ddb7a9efa80a4075909aaad2b1243fc1",
       "version_major": 2,
       "version_minor": 0
      },
      "text/plain": [
       "A Jupyter Widget"
      ]
     },
     "metadata": {},
     "output_type": "display_data"
    }
   ],
   "source": [
    "Zp_vectorizer = TupleVectorizer()\n",
    "Zn_vectorizer = TupleVectorizer()\n",
    "for row in tqdm_notebook(train_sent_tokens):\n",
    "    for token in row:\n",
    "        for field in token[1]:\n",
    "            Zp_vectorizer.partial_fit(tuple(field[:-1]))\n",
    "            Zn_vectorizer.partial_fit(tuple([field[0], field[2]]))"
   ]
  },
  {
   "cell_type": "code",
   "execution_count": 160,
   "metadata": {},
   "outputs": [
    {
     "data": {
      "text/plain": [
       "[2]"
      ]
     },
     "execution_count": 160,
     "metadata": {},
     "output_type": "execute_result"
    }
   ],
   "source": [
    "Zn_vectorizer.transform([('name', 1)])"
   ]
  },
  {
   "cell_type": "markdown",
   "metadata": {},
   "source": [
    "### LSTM input"
   ]
  },
  {
   "cell_type": "code",
   "execution_count": 184,
   "metadata": {},
   "outputs": [],
   "source": [
    "train_field_precedence = dict(zip(map(itemgetter(0), sorted(train_infobox_sum.items(), key=itemgetter(1), reverse=True)), range(len(train_infobox_sum))))"
   ]
  },
  {
   "cell_type": "code",
   "execution_count": 215,
   "metadata": {},
   "outputs": [
    {
     "data": {
      "application/vnd.jupyter.widget-view+json": {
       "model_id": "11d117d0cc01474f8a60f25831bfdee2",
       "version_major": 2,
       "version_minor": 0
      },
      "text/plain": [
       "A Jupyter Widget"
      ]
     },
     "metadata": {},
     "output_type": "display_data"
    }
   ],
   "source": [
    "def get_lstm_best_field(fields, precedence):\n",
    "    def get_field_descriptor(field):\n",
    "        return f'[{field[0]}_{field[1]}]'\n",
    "    if len(fields) <= 1:\n",
    "        return fields if not fields else get_field_descriptor(fields[0])\n",
    "    return get_field_descriptor(fields[np.argmin(map(lambda field: precedence[field], map(itemgetter(0), fields)))])\n",
    "train_sent_lstm = train_sent_tokens.progress_apply(lambda sent: [get_lstm_best_field(token[1], train_field_precedence) or token[0] for token in sent])"
   ]
  },
  {
   "cell_type": "code",
   "execution_count": 218,
   "metadata": {},
   "outputs": [
    {
     "name": "stdout",
     "output_type": "stream",
     "text": [
      "dumped\n"
     ]
    }
   ],
   "source": [
    "dump_to_pickle(train_sent_lstm, 'train.sent.lstm.pickle')"
   ]
  },
  {
   "cell_type": "code",
   "execution_count": 220,
   "metadata": {},
   "outputs": [
    {
     "data": {
      "application/vnd.jupyter.widget-view+json": {
       "model_id": "a95baeec29b94a99ab4639c6c730b710",
       "version_major": 2,
       "version_minor": 0
      },
      "text/plain": [
       "A Jupyter Widget"
      ]
     },
     "metadata": {},
     "output_type": "display_data"
    }
   ],
   "source": [
    "valid_sent_lstm = valid_sent_tokens.progress_apply(lambda sent: [get_lstm_best_field(token[1], train_field_precedence) or token[0] for token in sent])"
   ]
  },
  {
   "cell_type": "code",
   "execution_count": 222,
   "metadata": {},
   "outputs": [
    {
     "name": "stdout",
     "output_type": "stream",
     "text": [
      "dumped\n"
     ]
    }
   ],
   "source": [
    "dump = True\n",
    "dump_to_pickle(valid_sent_lstm, 'valid.sent.lstm.pickle')\n",
    "dump = False"
   ]
  }
 ],
 "metadata": {
  "kernelspec": {
   "display_name": "Python 3",
   "language": "python",
   "name": "python3"
  },
  "language_info": {
   "codemirror_mode": {
    "name": "ipython",
    "version": 3
   },
   "file_extension": ".py",
   "mimetype": "text/x-python",
   "name": "python",
   "nbconvert_exporter": "python",
   "pygments_lexer": "ipython3",
   "version": "3.6.3"
  }
 },
 "nbformat": 4,
 "nbformat_minor": 2
}
